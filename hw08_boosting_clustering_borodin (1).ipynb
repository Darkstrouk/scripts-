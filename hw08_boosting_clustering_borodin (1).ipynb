{
  "nbformat": 4,
  "nbformat_minor": 0,
  "metadata": {
    "colab": {
      "name": "hw08_boosting_clustering_borodin.ipynb",
      "provenance": [],
      "collapsed_sections": []
    },
    "kernelspec": {
      "display_name": "Python 3",
      "language": "python",
      "name": "python3"
    },
    "language_info": {
      "codemirror_mode": {
        "name": "ipython",
        "version": 3
      },
      "file_extension": ".py",
      "mimetype": "text/x-python",
      "name": "python",
      "nbconvert_exporter": "python",
      "pygments_lexer": "ipython3",
      "version": "3.9.4"
    }
  },
  "cells": [
    {
      "cell_type": "markdown",
      "metadata": {
        "id": "IHgmxWG_7lnE"
      },
      "source": [
        "# Введение в анализ данных\n",
        "## НИУ ВШЭ, 2020-2021 учебный год\n",
        "\n",
        "### Домашнее задание №8"
      ]
    },
    {
      "cell_type": "code",
      "metadata": {
        "id": "GOqjUI6igeLc"
      },
      "source": [
        "import numpy as np\n",
        "from sklearn.datasets import load_boston\n",
        "from sklearn.model_selection import train_test_split\n",
        "from sklearn.tree import DecisionTreeClassifier, DecisionTreeRegressor\n",
        "from sklearn.metrics import accuracy_score, precision_score, recall_score, roc_auc_score, mean_squared_error"
      ],
      "execution_count": 1,
      "outputs": []
    },
    {
      "cell_type": "markdown",
      "metadata": {
        "id": "-tKaz0okgeLh"
      },
      "source": [
        "## Градиентный бустинг своими руками (2 + 2* баллов)\n",
        "\n",
        "Реализуйте алгоритм градиентного бустинга для регрессии. Напомним основные формулы.\n",
        "\n",
        "Обозначим текущую композицию на $N-1$ шаге за $a_{N - 1}(x_i)$. Следующий базовый алгоритм $b_N(x_i)$ обучается на ответах $-\\frac{\\partial L(y_i, z)}{\\partial z}\\Bigl|_{z = a_{N - 1}(x_i)}$, где $L(y_i, z)$ — значение функции потерь на объекте при правильном ответе $y_i$ и предсказании $z$. Композиция на следующем шаге получается следующим образом:\n",
        "\n",
        "$$\n",
        "a_N(x_i) = a_{N-1}(x_i) + \\nu\\gamma_Nb_N(x_i)\n",
        "$$\n",
        "\n",
        "Здесь $\\nu$ — гиперпараметр learning rate, $\\gamma_N$ — оптимальный вес, настраиваемый на каждом шаге алгоритма, который можно найти по следующей формуле (обратите внимание на отсутствие $\\nu$):\n",
        "\n",
        "$$\n",
        "\\gamma_N = \\mathrm{arg}\\min_\\gamma \\frac{1}{\\ell}\\sum\\limits_{i=1}^{\\ell}L\\left(y_i, a_{N - 1}(x_i) + \\gamma b_N(x_i)\\right)\n",
        "$$\n",
        "\n",
        "Можете принять $\\gamma_N = 1$ для каждого $N$. Реализуйте нахождение оптимального $\\gamma_N$ на каждом шаге, чтобы получить ещё 1 балл.\n",
        "\n",
        "В качестве функции потерь возьмите MSE.\n",
        "\n",
        "*Примечание. Вы можете использовать `DecisionTree` из `sklearn` и методы оптимизации из различных библиотек.*"
      ]
    },
    {
      "cell_type": "code",
      "metadata": {
        "id": "Eu_ZIF9YgeLi"
      },
      "source": [
        "# это может помочь вам для поиска оптимальных gamma\n",
        "from scipy.optimize import minimize\n",
        "from sklearn.tree import DecisionTreeRegressor\n",
        "from sklearn.metrics import mean_squared_error"
      ],
      "execution_count": 2,
      "outputs": []
    },
    {
      "cell_type": "code",
      "metadata": {
        "id": "ZB5Yt-LKgeLi"
      },
      "source": [
        "class GradientBoosting:\n",
        "    def __init__(self, n_estimators, max_depth, learning_rate=0.1):\n",
        "        \"\"\"\n",
        "        PARAMETERS:\n",
        "        n_estimators - number of trees in the ensemble\n",
        "        max_depth - maximum depth of a tree\n",
        "        learning_rate - coefficient by which new algorithm result is multiplied\n",
        "        \"\"\"\n",
        "        self.n_estimators = n_estimators\n",
        "        self.max_depth = max_depth\n",
        "        self.learning_rate = learning_rate\n",
        "        self.gamma = 1\n",
        "        self.gammas = []\n",
        "        \n",
        "        self.trees = []\n",
        "        \n",
        "    def fit(self, x, y):\n",
        "        \"\"\"\n",
        "        INPUT:\n",
        "        x - np.array of shape (k, d)\n",
        "        y - np.array of shape (k,)\n",
        "        \"\"\"\n",
        "        # Здесь нам нужно проитерироваться по n_estimators и обучить\n",
        "        # соответствующее количество деревьев с помощью _fit_predict_tree(),\n",
        "        # правильно обновляя y_new\n",
        "        # Деревья нужно где-то сохранить, чтобы затем использовать в predict()\n",
        "        \n",
        "        y_new = y\n",
        "        comp_n = 0\n",
        "        for i in range(self.n_estimators):\n",
        "            pred = self._fit_predict_tree(x, y_new)\n",
        "            comp_n += pred\n",
        "            y_new = -2*(comp_n - y) # градиент\n",
        "\n",
        "            \n",
        "\n",
        "    def _fit_predict_tree(self, x, y):\n",
        "        # Обучаем дерево и возвращаем его предикшн\n",
        "        tree = DecisionTreeRegressor(max_depth=self.max_depth)\n",
        "        tree.fit(x, y)\n",
        "        self.trees.append(tree)\n",
        "        result = tree.predict(x)\n",
        "\n",
        "        return self.gamma * self.learning_rate * result\n",
        "        \n",
        "    def predict(self, x):\n",
        "        \"\"\"\n",
        "        INPUT:\n",
        "        x - np.array of shape (m, d)\n",
        "        OUTPUT:\n",
        "        y_pred - np.array of shape (m,)\n",
        "        \"\"\"\n",
        "        y_pred = 0\n",
        "        for tree in self.trees:\n",
        "            pred = tree.predict(x)\n",
        "            y_pred += self.gamma * self.learning_rate * pred\n",
        "        return y_pred"
      ],
      "execution_count": 3,
      "outputs": []
    },
    {
      "cell_type": "markdown",
      "metadata": {
        "id": "7z-8PafFgeLj"
      },
      "source": [
        "Проверьте вашу реализацию на Boston dataset. Подберите оптимальные гиперпараметры, чтобы победить RandomForestRegressor как в обычном случае, так и при нахождении оптимального шага **(не меняйте параметры сида)**. При необходимости воспользуйтесь GridSearch. За это вы получите ещё 1 балл."
      ]
    },
    {
      "cell_type": "code",
      "metadata": {
        "id": "0rxKS85vgeLj"
      },
      "source": [
        "boston = load_boston()\n",
        "X = boston.data\n",
        "y = boston.target\n",
        "X_train, X_test, y_train, y_test = train_test_split(X, y, test_size=0.25, random_state=13)"
      ],
      "execution_count": 4,
      "outputs": []
    },
    {
      "cell_type": "code",
      "metadata": {
        "id": "dAOaQK2a2N4p",
        "colab": {
          "base_uri": "https://localhost:8080/"
        },
        "outputId": "0c48f8d8-4d31-4066-cc70-63d8e13a2e97"
      },
      "source": [
        "from sklearn.ensemble import RandomForestRegressor\n",
        "\n",
        "rf = RandomForestRegressor(max_features=4, n_estimators=640, random_state=19052019)\n",
        "\n",
        "rf.fit(X_train, y_train)\n",
        "mean_squared_error(y_test, rf.predict(X_test))"
      ],
      "execution_count": 5,
      "outputs": [
        {
          "output_type": "execute_result",
          "data": {
            "text/plain": [
              "9.635844078917064"
            ]
          },
          "metadata": {
            "tags": []
          },
          "execution_count": 5
        }
      ]
    },
    {
      "cell_type": "code",
      "metadata": {
        "id": "_gt3vn0IgeLk"
      },
      "source": [
        "np.random.seed(19052019)"
      ],
      "execution_count": 6,
      "outputs": []
    },
    {
      "cell_type": "code",
      "metadata": {
        "id": "xuq9J1A5560f"
      },
      "source": [
        "gb = GradientBoosting(100, 5)"
      ],
      "execution_count": 7,
      "outputs": []
    },
    {
      "cell_type": "code",
      "metadata": {
        "id": "tiFdEsDs560f"
      },
      "source": [
        "gb.fit(X_train, y_train)"
      ],
      "execution_count": 8,
      "outputs": []
    },
    {
      "cell_type": "code",
      "metadata": {
        "id": "cOh6CgO_560f"
      },
      "source": [
        "y_pred = gb.predict(X_test)"
      ],
      "execution_count": 9,
      "outputs": []
    },
    {
      "cell_type": "code",
      "metadata": {
        "id": "hLasKyLXgeLk",
        "colab": {
          "base_uri": "https://localhost:8080/"
        },
        "outputId": "e5e1fd45-39ae-4a27-da14-2497d4806c28"
      },
      "source": [
        "mean_squared_error(y_test, y_pred)"
      ],
      "execution_count": 10,
      "outputs": [
        {
          "output_type": "execute_result",
          "data": {
            "text/plain": [
              "13.138266262781455"
            ]
          },
          "metadata": {
            "tags": []
          },
          "execution_count": 10
        }
      ]
    },
    {
      "cell_type": "markdown",
      "metadata": {
        "id": "bCWou8xPgeLl"
      },
      "source": [
        "Для удобства проверяющего укажите, пожалуйста, реализовали ли вы нахождение оптимального шага?\n",
        "\n",
        "- Нет"
      ]
    },
    {
      "cell_type": "markdown",
      "metadata": {
        "id": "PgCTG0lbO1mK"
      },
      "source": [
        "## Прогнозируем задержки самолётов (2 балла)"
      ]
    },
    {
      "cell_type": "markdown",
      "metadata": {
        "id": "ZVZibhKiM3j4"
      },
      "source": [
        "Поработаем с задачей про задержки самолётов. На основании доступных данных о рейсе вам нужно определить, будет ли он задержан на 15 минут.\n",
        "Воспользуйтесь любыми методами градиентного бустинга {XGboost, catboost, LightGBM} и GridSearch для достижения результата. Получите 1 балл за преодоление порога roc_auc_score 0.72 и ещё 1 балл за преодоление порога 0.74."
      ]
    },
    {
      "cell_type": "code",
      "metadata": {
        "id": "lgLNfXKF560h"
      },
      "source": [
        "import pandas as pd"
      ],
      "execution_count": 11,
      "outputs": []
    },
    {
      "cell_type": "code",
      "metadata": {
        "id": "WuwqUkrfM3UI"
      },
      "source": [
        "train = pd.read_csv('https://raw.githubusercontent.com/PersDep/data-mining-intro-2021/main/hw08-boosting-clustering/flight_delays_train.csv')\n",
        "test = pd.read_csv('https://raw.githubusercontent.com/PersDep/data-mining-intro-2021/main/hw08-boosting-clustering/flight_delays_test.csv')"
      ],
      "execution_count": 12,
      "outputs": []
    },
    {
      "cell_type": "code",
      "metadata": {
        "colab": {
          "base_uri": "https://localhost:8080/",
          "height": 204
        },
        "id": "af-whZAeNz5f",
        "outputId": "6e1d202c-8d88-4349-cbe3-44016be43f04"
      },
      "source": [
        "train.head()"
      ],
      "execution_count": 13,
      "outputs": [
        {
          "output_type": "execute_result",
          "data": {
            "text/html": [
              "<div>\n",
              "<style scoped>\n",
              "    .dataframe tbody tr th:only-of-type {\n",
              "        vertical-align: middle;\n",
              "    }\n",
              "\n",
              "    .dataframe tbody tr th {\n",
              "        vertical-align: top;\n",
              "    }\n",
              "\n",
              "    .dataframe thead th {\n",
              "        text-align: right;\n",
              "    }\n",
              "</style>\n",
              "<table border=\"1\" class=\"dataframe\">\n",
              "  <thead>\n",
              "    <tr style=\"text-align: right;\">\n",
              "      <th></th>\n",
              "      <th>Month</th>\n",
              "      <th>DayofMonth</th>\n",
              "      <th>DayOfWeek</th>\n",
              "      <th>DepTime</th>\n",
              "      <th>UniqueCarrier</th>\n",
              "      <th>Origin</th>\n",
              "      <th>Dest</th>\n",
              "      <th>Distance</th>\n",
              "      <th>dep_delayed_15min</th>\n",
              "    </tr>\n",
              "  </thead>\n",
              "  <tbody>\n",
              "    <tr>\n",
              "      <th>0</th>\n",
              "      <td>c-8</td>\n",
              "      <td>c-21</td>\n",
              "      <td>c-7</td>\n",
              "      <td>1934</td>\n",
              "      <td>AA</td>\n",
              "      <td>ATL</td>\n",
              "      <td>DFW</td>\n",
              "      <td>732</td>\n",
              "      <td>N</td>\n",
              "    </tr>\n",
              "    <tr>\n",
              "      <th>1</th>\n",
              "      <td>c-4</td>\n",
              "      <td>c-20</td>\n",
              "      <td>c-3</td>\n",
              "      <td>1548</td>\n",
              "      <td>US</td>\n",
              "      <td>PIT</td>\n",
              "      <td>MCO</td>\n",
              "      <td>834</td>\n",
              "      <td>N</td>\n",
              "    </tr>\n",
              "    <tr>\n",
              "      <th>2</th>\n",
              "      <td>c-9</td>\n",
              "      <td>c-2</td>\n",
              "      <td>c-5</td>\n",
              "      <td>1422</td>\n",
              "      <td>XE</td>\n",
              "      <td>RDU</td>\n",
              "      <td>CLE</td>\n",
              "      <td>416</td>\n",
              "      <td>N</td>\n",
              "    </tr>\n",
              "    <tr>\n",
              "      <th>3</th>\n",
              "      <td>c-11</td>\n",
              "      <td>c-25</td>\n",
              "      <td>c-6</td>\n",
              "      <td>1015</td>\n",
              "      <td>OO</td>\n",
              "      <td>DEN</td>\n",
              "      <td>MEM</td>\n",
              "      <td>872</td>\n",
              "      <td>N</td>\n",
              "    </tr>\n",
              "    <tr>\n",
              "      <th>4</th>\n",
              "      <td>c-10</td>\n",
              "      <td>c-7</td>\n",
              "      <td>c-6</td>\n",
              "      <td>1828</td>\n",
              "      <td>WN</td>\n",
              "      <td>MDW</td>\n",
              "      <td>OMA</td>\n",
              "      <td>423</td>\n",
              "      <td>Y</td>\n",
              "    </tr>\n",
              "  </tbody>\n",
              "</table>\n",
              "</div>"
            ],
            "text/plain": [
              "  Month DayofMonth DayOfWeek  DepTime  ... Origin Dest Distance  dep_delayed_15min\n",
              "0   c-8       c-21       c-7     1934  ...    ATL  DFW      732                  N\n",
              "1   c-4       c-20       c-3     1548  ...    PIT  MCO      834                  N\n",
              "2   c-9        c-2       c-5     1422  ...    RDU  CLE      416                  N\n",
              "3  c-11       c-25       c-6     1015  ...    DEN  MEM      872                  N\n",
              "4  c-10        c-7       c-6     1828  ...    MDW  OMA      423                  Y\n",
              "\n",
              "[5 rows x 9 columns]"
            ]
          },
          "metadata": {
            "tags": []
          },
          "execution_count": 13
        }
      ]
    },
    {
      "cell_type": "code",
      "metadata": {
        "colab": {
          "base_uri": "https://localhost:8080/"
        },
        "id": "v5a3DGydN7eu",
        "outputId": "42439073-479d-4741-9b56-0f76b56812d7"
      },
      "source": [
        "# Референс\n",
        "\n",
        "from xgboost.sklearn import XGBClassifier\n",
        "\n",
        "X_train = train[['Distance', 'DepTime']].values\n",
        "y_train = train['dep_delayed_15min'].map({'Y': 1, 'N': 0}).values\n",
        "X_test = test[['Distance', 'DepTime']].values\n",
        "X_train_part, X_valid, y_train_part, y_valid = train_test_split(X_train, y_train, test_size=0.3)\n",
        "\n",
        "xgb = XGBClassifier()\n",
        "xgb.fit(X_train_part, y_train_part)\n",
        "roc_auc_score(y_valid, xgb.predict_proba(X_valid)[:, 1])"
      ],
      "execution_count": 14,
      "outputs": [
        {
          "output_type": "execute_result",
          "data": {
            "text/plain": [
              "0.6961759892424921"
            ]
          },
          "metadata": {
            "tags": []
          },
          "execution_count": 14
        }
      ]
    },
    {
      "cell_type": "code",
      "metadata": {
        "id": "6wJK363f560i"
      },
      "source": [
        "from lightgbm import LGBMClassifier\n",
        "from sklearn.preprocessing import LabelEncoder"
      ],
      "execution_count": 16,
      "outputs": []
    },
    {
      "cell_type": "code",
      "metadata": {
        "id": "YyeUSLTUETkc"
      },
      "source": [
        "cols = ['Month', 'DayofMonth', 'DayOfWeek', \n",
        "        'UniqueCarrier', 'Origin', 'Dest', \n",
        "        'dep_delayed_15min']"
      ],
      "execution_count": 17,
      "outputs": []
    },
    {
      "cell_type": "code",
      "metadata": {
        "id": "L4MiEla0FAOs"
      },
      "source": [
        "enc = LabelEncoder()\n",
        "for col in cols:\n",
        "    train[col] = enc.fit_transform(train[col])\n",
        "X_train, y_train = train.drop('dep_delayed_15min', 1), train['dep_delayed_15min']"
      ],
      "execution_count": 18,
      "outputs": []
    },
    {
      "cell_type": "code",
      "metadata": {
        "colab": {
          "base_uri": "https://localhost:8080/"
        },
        "id": "R5pjZptA_7na",
        "outputId": "00192d5f-76a7-481d-dc6c-7e65159d1fa1"
      },
      "source": [
        "X_train_part, X_valid, y_train_part, y_valid = train_test_split(X_train, y_train, test_size=0.3)\n",
        "\n",
        "lgbm = LGBMClassifier(n_estimators=400, max_depth=12)\n",
        "lgbm.fit(X_train_part, y_train_part)\n",
        "roc_auc_score(y_valid, lgbm.predict_proba(X_valid)[:, 1])"
      ],
      "execution_count": 24,
      "outputs": [
        {
          "output_type": "execute_result",
          "data": {
            "text/plain": [
              "0.7421156524553512"
            ]
          },
          "metadata": {
            "tags": []
          },
          "execution_count": 24
        }
      ]
    },
    {
      "cell_type": "markdown",
      "metadata": {
        "id": "mDmcF1cP2bDe"
      },
      "source": [
        "## DBSCAN своими руками (2 + 2* баллов)"
      ]
    },
    {
      "cell_type": "markdown",
      "metadata": {
        "id": "poDad0E52ii1"
      },
      "source": [
        "DBSCAN: Density-based spatial clustering of applications with noise\n",
        "\n",
        "Реализуйте класс dbscan.\n",
        "\n",
        "Алгоритм имеет два основных гиперпараметра:\n",
        "1. `eps` &mdash; радиус рассматриваемой окрестности\n",
        "2. `min_samples` &mdash; число соседей в окрестности\n",
        "\n",
        "Для выполнения кластеризации DBSCAN точки делятся на основные точки, достижимые по плотности точки и выпадающие следующим образом:\n",
        "\n",
        "- Точка $p$ является основной точкой, если по меньшей мере `min_samples` точек находятся на расстоянии, не превосходящем \n",
        "`eps` от неё. Говорят, что эти точки достижимы прямо из $p$.\n",
        "\n",
        "-  Точка $q$ прямо достижима из $p$, если точка $q$ находится на расстоянии, не большем `eps`, от точки $p$, и $p$ — основная точка.\n",
        "Точка $q$ достижима из $p$, если имеется путь \n",
        "$p_1,…,p_n$ где $p_1=p$ и $p_n=q$ , а каждая точка $p_{i+1}$ достижима прямо из $p_i$ (все точки на пути должны быть основными, за исключением $q$).\n",
        "\n",
        "Все точки, не достижимые из основных точек, считаются выбросами.\n",
        "\n",
        "Теперь, если $p$ является основной точкой, то она формирует кластер вместе со всеми точками (основными или неосновными), достижимыми из этой точки. Каждый кластер содержит по меньшей мере одну основную точку. Неосновные точки могут быть частью кластера, но они формируют его «край», поскольку не могут быть использованы для достижения других точек.\n"
      ]
    },
    {
      "cell_type": "code",
      "metadata": {
        "id": "BdC__UEtabvU"
      },
      "source": [
        "# Это может помочь вам для поиска дистанции между точками\n",
        "from scipy.spatial import distance"
      ],
      "execution_count": 25,
      "outputs": []
    },
    {
      "cell_type": "code",
      "metadata": {
        "id": "czgUIv2E3GBm"
      },
      "source": [
        "# Рекомендации -- это только рекомендации\n",
        "class dbscan:\n",
        "    def __init__(self, eps, min_samples):\n",
        "        self.eps = eps\n",
        "        self.min_samples = min_samples\n",
        "        self.current_cluster = 0\n",
        "        self.noise_cluster = 0\n",
        "        self.visited = set()\n",
        "        self.clustered = set()\n",
        "        self.clusters = {self.noise_cluster: []}\n",
        "        \n",
        "    def fit_predict(self, X):\n",
        "        X = list(zip(X[:,0], X[:, 1]))\n",
        "        self.X = X\n",
        "        for p in X:\n",
        "            if p not in self.visited:\n",
        "                self.visited.add(p)\n",
        "                neighbours = self.range_query(p)\n",
        "                if len(neighbours) < self.min_samples:\n",
        "                    self.clusters[self.noise_cluster].append(p)\n",
        "                else:\n",
        "                    self.current_cluster += 1\n",
        "                    self.grow_cluster(p, neighbours)\n",
        "                    \n",
        "        clusters = []\n",
        "        for p in X:\n",
        "            for c in self.clusters.keys():\n",
        "                if p in self.clusters[c]:\n",
        "                    clusters.append(c)\n",
        "                    continue\n",
        "        return clusters\n",
        "\n",
        "    def grow_cluster(self, root, neighbours):\n",
        "        # В этой функции мы полностью строим кластер относительно переданной точки\n",
        "        # Т.е. реализуем цикл по структуре данных, изначально состоящей из уже\n",
        "        # известных соседей (neighbours) и в процессе пополняющейся\n",
        "        # \"соседями соседей\" с помощью range_query()\n",
        "        if self.current_cluster not in self.clusters:\n",
        "            self.clusters[self.current_cluster] = []\n",
        "        self.clusters[self.current_cluster].append(root)\n",
        "        self.clustered.add(root)\n",
        "        \n",
        "        while len(neighbours) != 0:\n",
        "            q = neighbours.pop()\n",
        "            if q not in self.visited:\n",
        "                self.visited.add(q)\n",
        "                q_neighbours = self.range_query(q)\n",
        "                if len(q_neighbours) > self.min_samples:\n",
        "                    neighbours.extend(q_neighbours)\n",
        "            if q not in self.clustered:\n",
        "                self.clustered.add(q)\n",
        "                self.clusters[self.current_cluster].append(q)\n",
        "                if q in self.clusters[self.noise_cluster]:\n",
        "                    self.clusters[self.noise_cluster].remove(q)\n",
        "\n",
        "    def range_query(self, x):\n",
        "        \"\"\"Возвращает точки на расстоянии <= eps от x\"\"\"\n",
        "        # С помощью функции dist()\n",
        "        res = []\n",
        "        for obj in self.X:\n",
        "            if self.dist(x, obj) < self.eps:\n",
        "                res.append(obj)\n",
        "        return res\n",
        "    \n",
        "    @staticmethod\n",
        "    def dist(a, b):\n",
        "        \"\"\"Метрика расстояния\"\"\"\n",
        "        # Попробуйте что-нибудь из scipy.spatial.distance\n",
        "        # Базовый вариант -- Евклидова метрика\n",
        "        return distance.euclidean(a, b)"
      ],
      "execution_count": 29,
      "outputs": []
    },
    {
      "cell_type": "markdown",
      "metadata": {
        "id": "lmI34EpRCLD9"
      },
      "source": [
        "Проверим себя на простом примере:"
      ]
    },
    {
      "cell_type": "code",
      "metadata": {
        "colab": {
          "base_uri": "https://localhost:8080/",
          "height": 265
        },
        "id": "EFABkOA73JC6",
        "outputId": "6409d6b7-cf9a-4c10-e4e3-bd42f039d824"
      },
      "source": [
        "from sklearn.datasets import make_moons\n",
        "import matplotlib.pyplot as plt\n",
        "import pandas as pd\n",
        "\n",
        "X, _ = make_moons(n_samples=500, noise=0.1)\n",
        "plt.scatter(X[:,0], X[:,1])\n",
        "plt.show()"
      ],
      "execution_count": 30,
      "outputs": [
        {
          "output_type": "display_data",
          "data": {
            "image/png": "[encoded data removed]",
            "text/plain": [
              "<Figure size 432x288 with 1 Axes>"
            ]
          },
          "metadata": {
            "tags": [],
            "needs_background": "light"
          }
        }
      ]
    },
    {
      "cell_type": "markdown",
      "metadata": {
        "collapsed": false,
        "pycharm": {
          "name": "#%% md\n"
        },
        "id": "XZOF9fa3ytob"
      },
      "source": [
        "Референс"
      ]
    },
    {
      "cell_type": "code",
      "metadata": {
        "pycharm": {
          "name": "#%%\n"
        },
        "colab": {
          "base_uri": "https://localhost:8080/",
          "height": 265
        },
        "id": "-xF0Vfltytoc",
        "outputId": "569c02d0-62cf-48d7-a15c-f2fbcef5a9d4"
      },
      "source": [
        "from sklearn.cluster import DBSCAN\n",
        "\n",
        "clusters = DBSCAN(eps=0.2, min_samples=10).fit_predict(X)\n",
        "\n",
        "plt.scatter(X[:,0], X[:,1], c=clusters)\n",
        "plt.show()\n",
        "\n"
      ],
      "execution_count": 32,
      "outputs": [
        {
          "output_type": "display_data",
          "data": {
            "image/png": "[encoded data removed]",
            "text/plain": [
              "<Figure size 432x288 with 1 Axes>"
            ]
          },
          "metadata": {
            "tags": [],
            "needs_background": "light"
          }
        }
      ]
    },
    {
      "cell_type": "markdown",
      "metadata": {
        "id": "NCgWZPMwCycn"
      },
      "source": [
        "Кластеризуйте это с помощью своей версии DBSCAN:"
      ]
    },
    {
      "cell_type": "code",
      "metadata": {
        "id": "dMtgyZMR4h0a"
      },
      "source": [
        "dbscan_model = dbscan(0.2, 10)"
      ],
      "execution_count": 33,
      "outputs": []
    },
    {
      "cell_type": "code",
      "metadata": {
        "pycharm": {
          "name": "#%%\n"
        },
        "colab": {
          "base_uri": "https://localhost:8080/",
          "height": 268
        },
        "id": "egOlGNXyytoc",
        "outputId": "c6d95022-c5c4-4ab9-d7bf-0924832cfd03"
      },
      "source": [
        "X, _ = make_moons(n_samples=500, noise=0.1)\n",
        "custom_clusters = dbscan_model.fit_predict(X)\n",
        "plt.scatter(X[:,0], X[:,1], c=custom_clusters)\n",
        "plt.show()"
      ],
      "execution_count": 36,
      "outputs": [
        {
          "output_type": "display_data",
          "data": {
            "image/png": "[encoded data removed]",
            "text/plain": [
              "<Figure size 432x288 with 1 Axes>"
            ]
          },
          "metadata": {
            "tags": [],
            "needs_background": "light"
          }
        }
      ]
    },
    {
      "cell_type": "markdown",
      "metadata": {
        "id": "M6S5stsxDBps"
      },
      "source": [
        "Получите 1 балл за ещё один интересный пример кластеризации (в качестве референса используйте предоставленное изображение. Нужно несколько интересных соседствующих форм):"
      ]
    },
    {
      "cell_type": "code",
      "metadata": {
        "id": "9uyZzFy1ytod"
      },
      "source": [
        "import cv2\n",
        "\n",
        "def img2points(path):\n",
        "    img = cv2.imread(path) \n",
        "    img = cv2.cvtColor(img, cv2.COLOR_BGR2LAB)[..., 0]\n",
        "    points = (img < 200).astype(int).nonzero()\n",
        "    features = np.array([points[1][::10], points[0][::10]]).T \n",
        "    return features"
      ],
      "execution_count": 85,
      "outputs": []
    },
    {
      "cell_type": "code",
      "metadata": {
        "id": "Ff6Ao8rvytod"
      },
      "source": [
        "meme = img2points('/content/mm.jpg')"
      ],
      "execution_count": 86,
      "outputs": []
    },
    {
      "cell_type": "code",
      "metadata": {
        "colab": {
          "base_uri": "https://localhost:8080/",
          "height": 282
        },
        "id": "oIb2Uw-Fytod",
        "outputId": "6c292dcf-e857-45a2-ba3b-240bfc579f86"
      },
      "source": [
        "plt.scatter(meme[:, 0], meme[:, 1])"
      ],
      "execution_count": 87,
      "outputs": [
        {
          "output_type": "execute_result",
          "data": {
            "text/plain": [
              "<matplotlib.collections.PathCollection at 0x7fedcfff5d90>"
            ]
          },
          "metadata": {
            "tags": []
          },
          "execution_count": 87
        },
        {
          "output_type": "display_data",
          "data": {
            "image/png": "[encoded data removed]",
            "text/plain": [
              "<Figure size 432x288 with 1 Axes>"
            ]
          },
          "metadata": {
            "tags": [],
            "needs_background": "light"
          }
        }
      ]
    },
    {
      "cell_type": "code",
      "metadata": {
        "id": "ZsNmJzwPytod"
      },
      "source": [
        "dbscan_model = dbscan(eps=15, min_samples=5)"
      ],
      "execution_count": 88,
      "outputs": []
    },
    {
      "cell_type": "code",
      "metadata": {
        "id": "ZVAyms3Mytoe"
      },
      "source": [
        "clusters = dbscan_model.fit_predict(meme)"
      ],
      "execution_count": 89,
      "outputs": []
    },
    {
      "cell_type": "code",
      "metadata": {
        "colab": {
          "base_uri": "https://localhost:8080/",
          "height": 265
        },
        "id": "EH41wtKHytoe",
        "outputId": "2b3ea015-07a2-4c6d-83e3-92ab2afee092"
      },
      "source": [
        "plt.scatter(meme[:,0], meme[:,1], c=clusters)\n",
        "plt.show()"
      ],
      "execution_count": 90,
      "outputs": [
        {
          "output_type": "display_data",
          "data": {
            "image/png": "[encoded data removed]",
            "text/plain": [
              "<Figure size 432x288 with 1 Axes>"
            ]
          },
          "metadata": {
            "tags": [],
            "needs_background": "light"
          }
        }
      ]
    },
    {
      "cell_type": "markdown",
      "metadata": {
        "id": "jZRxN-y1DKoA"
      },
      "source": [
        "Получите ещё 1 балл, если время работы вашего алгоритма больше референсного не более чем на 20%:"
      ]
    },
    {
      "cell_type": "code",
      "metadata": {
        "id": "JjqYw7RSDkqd",
        "outputId": "26c81b40-5bef-4d8e-d6d8-739f707211fd"
      },
      "source": [
        "%%time\n",
        "%%capture\n",
        "clusters = DBSCAN(eps=0.2, min_samples=10).fit_predict(X)"
      ],
      "execution_count": null,
      "outputs": [
        {
          "output_type": "stream",
          "text": [
            "CPU times: user 8.45 ms, sys: 2 µs, total: 8.46 ms\n",
            "Wall time: 6.98 ms\n"
          ],
          "name": "stdout"
        }
      ]
    },
    {
      "cell_type": "code",
      "metadata": {
        "id": "pAeHvTniDtSB",
        "pycharm": {
          "name": "#%%\n"
        },
        "outputId": "aefefcf6-5f7f-4898-9e29-2e00a1438e99"
      },
      "source": [
        "%%time\n",
        "%%capture\n",
        "clusters = dbscan(eps=0.2, min_samples=10).fit_predict(X)"
      ],
      "execution_count": null,
      "outputs": [
        {
          "output_type": "stream",
          "text": [
            "CPU times: user 3.81 s, sys: 0 ns, total: 3.81 s\n",
            "Wall time: 3.81 s\n"
          ],
          "name": "stdout"
        }
      ]
    }
  ]
}