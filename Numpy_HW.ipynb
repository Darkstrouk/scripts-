{
  "nbformat": 4,
  "nbformat_minor": 0,
  "metadata": {
    "colab": {
      "name": "Untitled0.ipynb",
      "provenance": [],
      "collapsed_sections": []
    },
    "kernelspec": {
      "name": "python3",
      "display_name": "Python 3"
    }
  },
  "cells": [
    {
      "cell_type": "code",
      "metadata": {
        "id": "elPKQ97GdCL-"
      },
      "source": [
        "import numpy as np\n",
        "import math"
      ],
      "execution_count": 1,
      "outputs": []
    },
    {
      "cell_type": "code",
      "metadata": {
        "id": "DssBatv6xR-g"
      },
      "source": [
        "#задание 1\n",
        "def result_mark(weights: np.array, marks: np.array) -> int:\n",
        "  m = marks.shape[0]\n",
        "  fin = 0\n",
        "  for i in range(m):\n",
        "    fin=fin+(weights[i]*marks[i])\n",
        "  fin = round(fin)\n",
        "  return fin\n"
      ],
      "execution_count": 78,
      "outputs": []
    },
    {
      "cell_type": "code",
      "metadata": {
        "id": "1ViiGk0ldEzm"
      },
      "source": [
        "# задание 2\n",
        "def change_array(array: np.array, number: int) -> np.array:\n",
        "    m = array.shape[0]\n",
        "    for i in range(m):\n",
        "      if (i == 0) or ((i)%3 == 0):\n",
        "        array[i] = number\n",
        "    return array\n"
      ],
      "execution_count": 80,
      "outputs": []
    },
    {
      "cell_type": "code",
      "metadata": {
        "colab": {
          "base_uri": "https://localhost:8080/"
        },
        "id": "DmW712EGerUR",
        "outputId": "6ff44eae-c644-47f5-b99a-59d297e83959"
      },
      "source": [
        "# задание 3\n",
        "import math\n",
        "array1 = np.array([1.5, 0.5, 2, -4.1, -3, 6, -1])\n",
        "array2 = np.array([1.2, 0.5, 1, -4.0,  3, 0, -1.2])\n",
        "precision = 0.5\n",
        "\n",
        "\n",
        "mylist = []\n",
        "m = array1.shape[0]\n",
        "for i in range(m):\n",
        "  if math.fabs(array1[i] - array2[i]) <= precision:\n",
        "    mylist.append(i)\n",
        "mat = np.array(mylist)\n",
        "print(mat)\n"
      ],
      "execution_count": 33,
      "outputs": [
        {
          "output_type": "stream",
          "text": [
            "[0, 1, 3, 6]\n",
            "[0 1 3 6]\n"
          ],
          "name": "stdout"
        }
      ]
    },
    {
      "cell_type": "code",
      "metadata": {
        "colab": {
          "base_uri": "https://localhost:8080/"
        },
        "id": "WsUj9vP9zpfp",
        "outputId": "2cf74c9f-68c4-4a2c-e633-da74dacacd98"
      },
      "source": [
        "# задание 4\n",
        "block = np.array([[1, 3, 3], [7, 0, 0]])\n",
        "\n",
        "\n",
        "\n",
        "l = np.zeros(shape=(block.shape[0]*2,block.shape[1]*2))\n",
        "for i in range(block.shape[0]):\n",
        "  for j in range(block.shape[1]):\n",
        "    l[i][j]=block[i][j]\n",
        "for i in range(block.shape[0]):\n",
        "  for j in range(block.shape[1]):\n",
        "    l[i+block.shape[0]][j+block.shape[1]]=l[i][j]\n",
        "    l[i][j+block.shape[1]]=l[i][j]\n",
        "    l[i+block.shape[0]][j]=l[i][j]\n",
        "l"
      ],
      "execution_count": 74,
      "outputs": [
        {
          "output_type": "execute_result",
          "data": {
            "text/plain": [
              "array([[1., 3., 3., 1., 3., 3.],\n",
              "       [7., 0., 0., 7., 0., 0.],\n",
              "       [1., 3., 3., 1., 3., 3.],\n",
              "       [7., 0., 0., 7., 0., 0.]])"
            ]
          },
          "metadata": {
            "tags": []
          },
          "execution_count": 74
        }
      ]
    },
    {
      "cell_type": "code",
      "metadata": {
        "colab": {
          "base_uri": "https://localhost:8080/"
        },
        "id": "WvluaXonj7D2",
        "outputId": "483759d8-e0a9-49fa-9a5c-7eff26e4fa5c"
      },
      "source": [
        "# задание 5\n",
        "matrix = np.array([[0, 1, 2, 3],\n",
        "                   [4, 5, 6, 7],\n",
        "                   [8, 9, 10, 11],\n",
        "                   [12, 13, 14, 15]])\n",
        "\n",
        "\n",
        "\n",
        "x=1\n",
        "m = matrix.shape[0]\n",
        "for i in range(m):\n",
        "  if matrix[i][i]!=0:\n",
        "    x=x*matrix[i][i]\n",
        "print(x)"
      ],
      "execution_count": 35,
      "outputs": [
        {
          "output_type": "stream",
          "text": [
            "750\n"
          ],
          "name": "stdout"
        }
      ]
    },
    {
      "cell_type": "code",
      "metadata": {
        "id": "QYp0Ds_bnm41"
      },
      "source": [
        "# задание 8\n",
        "matrix = np.array([[10, 21, 32, 49], [0, 53, 62, 78], [0, 0, 82, 92], [0, 0, 0, 10]])\n",
        "\n",
        "\n",
        "\n",
        "\n",
        "m = matrix.shape[0]\n",
        "for i in range(m):\n",
        "  for j in range(m):\n",
        "    if i>j:\n",
        "      matrix[i][j]=matrix[j][i]\n",
        "matrix"
      ],
      "execution_count": 39,
      "outputs": []
    },
    {
      "cell_type": "code",
      "metadata": {
        "colab": {
          "base_uri": "https://localhost:8080/"
        },
        "id": "KJvg4mhEq9_A",
        "outputId": "7876c2a3-b6c8-4595-c537-b36101b462a2"
      },
      "source": [
        "# Задание 9\n",
        "\n",
        "m = 6\n",
        "a = 7\n",
        "b = 11\n",
        "\n",
        "\n",
        "\n",
        "\n",
        "l = np.zeros(shape=(m,b-a+1))\n",
        "for j in range(b-a+1):\n",
        "  for i in range(m):\n",
        "    l[i][j]=a+j\n",
        "l"
      ],
      "execution_count": 47,
      "outputs": [
        {
          "output_type": "execute_result",
          "data": {
            "text/plain": [
              "array([[ 7.,  8.,  9., 10., 11.],\n",
              "       [ 7.,  8.,  9., 10., 11.],\n",
              "       [ 7.,  8.,  9., 10., 11.],\n",
              "       [ 7.,  8.,  9., 10., 11.],\n",
              "       [ 7.,  8.,  9., 10., 11.],\n",
              "       [ 7.,  8.,  9., 10., 11.]])"
            ]
          },
          "metadata": {
            "tags": []
          },
          "execution_count": 47
        }
      ]
    },
    {
      "cell_type": "code",
      "metadata": {
        "id": "eAzb9rustUNb"
      },
      "source": [
        "# Задание 10\n",
        "vec1 = np.array([-2, 1,  0, -5, 4, 3, -3])\n",
        "vec2 = np.array([ 0, 2, -2, 10, 6, 0,  0])\n",
        "\n",
        "\n",
        "\n",
        "\n",
        "sum1 = 0\n",
        "sum2 = 0\n",
        "sum3 = 0\n",
        "m = vec1.shape[0]\n",
        "for i in range(m):\n",
        "  sum1=sum1+(vec1[i]*vec2[i])\n",
        "for i in range(m):\n",
        "  sum2 = sum2+(vec1[i]*vec1[i])\n",
        "  sum3 = sum3+(vec2[i]*vec2[i])\n",
        "res = sum1/(math.sqrt(sum2)*math.sqrt(sum3))\n",
        "res\n"
      ],
      "execution_count": 48,
      "outputs": []
    },
    {
      "cell_type": "code",
      "metadata": {
        "id": "RO-ds84axF8R"
      },
      "source": [
        ""
      ],
      "execution_count": null,
      "outputs": []
    }
  ]
}