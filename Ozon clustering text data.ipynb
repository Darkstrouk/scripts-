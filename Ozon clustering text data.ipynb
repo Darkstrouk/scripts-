{
  "nbformat": 4,
  "nbformat_minor": 0,
  "metadata": {
    "colab": {
      "name": "first_try_knn_clustering.ipynb",
      "provenance": [],
      "collapsed_sections": []
    },
    "kernelspec": {
      "name": "python3",
      "display_name": "Python 3"
    },
    "language_info": {
      "name": "python"
    },
    "widgets": {
      "application/vnd.jupyter.widget-state+json": {
        "83f9710c6cc84d41bcb24628e0e25ade": {
          "model_module": "@jupyter-widgets/controls",
          "model_name": "HBoxModel",
          "model_module_version": "1.5.0",
          "state": {
            "_view_name": "HBoxView",
            "_dom_classes": [],
            "_model_name": "HBoxModel",
            "_view_module": "@jupyter-widgets/controls",
            "_model_module_version": "1.5.0",
            "_view_count": null,
            "_view_module_version": "1.5.0",
            "box_style": "",
            "layout": "IPY_MODEL_759e32525a87410cbe995716555828db",
            "_model_module": "@jupyter-widgets/controls",
            "children": [
              "IPY_MODEL_24a1453d7c26424d8a0a5d183dd4991a",
              "IPY_MODEL_fbe83c4b918b4dc4869d3bed2f08c216",
              "IPY_MODEL_7250f6ada9ea4cfda410cc3188b0720d"
            ]
          }
        },
        "759e32525a87410cbe995716555828db": {
          "model_module": "@jupyter-widgets/base",
          "model_name": "LayoutModel",
          "model_module_version": "1.2.0",
          "state": {
            "_view_name": "LayoutView",
            "grid_template_rows": null,
            "right": null,
            "justify_content": null,
            "_view_module": "@jupyter-widgets/base",
            "overflow": null,
            "_model_module_version": "1.2.0",
            "_view_count": null,
            "flex_flow": null,
            "width": null,
            "min_width": null,
            "border": null,
            "align_items": null,
            "bottom": null,
            "_model_module": "@jupyter-widgets/base",
            "top": null,
            "grid_column": null,
            "overflow_y": null,
            "overflow_x": null,
            "grid_auto_flow": null,
            "grid_area": null,
            "grid_template_columns": null,
            "flex": null,
            "_model_name": "LayoutModel",
            "justify_items": null,
            "grid_row": null,
            "max_height": null,
            "align_content": null,
            "visibility": null,
            "align_self": null,
            "height": null,
            "min_height": null,
            "padding": null,
            "grid_auto_rows": null,
            "grid_gap": null,
            "max_width": null,
            "order": null,
            "_view_module_version": "1.2.0",
            "grid_template_areas": null,
            "object_position": null,
            "object_fit": null,
            "grid_auto_columns": null,
            "margin": null,
            "display": null,
            "left": null
          }
        },
        "24a1453d7c26424d8a0a5d183dd4991a": {
          "model_module": "@jupyter-widgets/controls",
          "model_name": "HTMLModel",
          "model_module_version": "1.5.0",
          "state": {
            "_view_name": "HTMLView",
            "style": "IPY_MODEL_b1222121af60458780166c077c84c64b",
            "_dom_classes": [],
            "description": "",
            "_model_name": "HTMLModel",
            "placeholder": "​",
            "_view_module": "@jupyter-widgets/controls",
            "_model_module_version": "1.5.0",
            "value": "100%",
            "_view_count": null,
            "_view_module_version": "1.5.0",
            "description_tooltip": null,
            "_model_module": "@jupyter-widgets/controls",
            "layout": "IPY_MODEL_f3ad0cb633514f058acaf2c114b40546"
          }
        },
        "fbe83c4b918b4dc4869d3bed2f08c216": {
          "model_module": "@jupyter-widgets/controls",
          "model_name": "FloatProgressModel",
          "model_module_version": "1.5.0",
          "state": {
            "_view_name": "ProgressView",
            "style": "IPY_MODEL_b5c6bf6a45a6414f84e1b4982ff81235",
            "_dom_classes": [],
            "description": "",
            "_model_name": "FloatProgressModel",
            "bar_style": "success",
            "max": 25883,
            "_view_module": "@jupyter-widgets/controls",
            "_model_module_version": "1.5.0",
            "value": 25883,
            "_view_count": null,
            "_view_module_version": "1.5.0",
            "orientation": "horizontal",
            "min": 0,
            "description_tooltip": null,
            "_model_module": "@jupyter-widgets/controls",
            "layout": "IPY_MODEL_a030f4a7a9e84d46852f006e7c1fcf95"
          }
        },
        "7250f6ada9ea4cfda410cc3188b0720d": {
          "model_module": "@jupyter-widgets/controls",
          "model_name": "HTMLModel",
          "model_module_version": "1.5.0",
          "state": {
            "_view_name": "HTMLView",
            "style": "IPY_MODEL_b8c5891c4684430ba7c3f267d8172f34",
            "_dom_classes": [],
            "description": "",
            "_model_name": "HTMLModel",
            "placeholder": "​",
            "_view_module": "@jupyter-widgets/controls",
            "_model_module_version": "1.5.0",
            "value": " 25883/25883 [00:00&lt;00:00, 167083.59it/s]",
            "_view_count": null,
            "_view_module_version": "1.5.0",
            "description_tooltip": null,
            "_model_module": "@jupyter-widgets/controls",
            "layout": "IPY_MODEL_592c6318e3684699a907fe3eb9953914"
          }
        },
        "b1222121af60458780166c077c84c64b": {
          "model_module": "@jupyter-widgets/controls",
          "model_name": "DescriptionStyleModel",
          "model_module_version": "1.5.0",
          "state": {
            "_view_name": "StyleView",
            "_model_name": "DescriptionStyleModel",
            "description_width": "",
            "_view_module": "@jupyter-widgets/base",
            "_model_module_version": "1.5.0",
            "_view_count": null,
            "_view_module_version": "1.2.0",
            "_model_module": "@jupyter-widgets/controls"
          }
        },
        "f3ad0cb633514f058acaf2c114b40546": {
          "model_module": "@jupyter-widgets/base",
          "model_name": "LayoutModel",
          "model_module_version": "1.2.0",
          "state": {
            "_view_name": "LayoutView",
            "grid_template_rows": null,
            "right": null,
            "justify_content": null,
            "_view_module": "@jupyter-widgets/base",
            "overflow": null,
            "_model_module_version": "1.2.0",
            "_view_count": null,
            "flex_flow": null,
            "width": null,
            "min_width": null,
            "border": null,
            "align_items": null,
            "bottom": null,
            "_model_module": "@jupyter-widgets/base",
            "top": null,
            "grid_column": null,
            "overflow_y": null,
            "overflow_x": null,
            "grid_auto_flow": null,
            "grid_area": null,
            "grid_template_columns": null,
            "flex": null,
            "_model_name": "LayoutModel",
            "justify_items": null,
            "grid_row": null,
            "max_height": null,
            "align_content": null,
            "visibility": null,
            "align_self": null,
            "height": null,
            "min_height": null,
            "padding": null,
            "grid_auto_rows": null,
            "grid_gap": null,
            "max_width": null,
            "order": null,
            "_view_module_version": "1.2.0",
            "grid_template_areas": null,
            "object_position": null,
            "object_fit": null,
            "grid_auto_columns": null,
            "margin": null,
            "display": null,
            "left": null
          }
        },
        "b5c6bf6a45a6414f84e1b4982ff81235": {
          "model_module": "@jupyter-widgets/controls",
          "model_name": "ProgressStyleModel",
          "model_module_version": "1.5.0",
          "state": {
            "_view_name": "StyleView",
            "_model_name": "ProgressStyleModel",
            "description_width": "",
            "_view_module": "@jupyter-widgets/base",
            "_model_module_version": "1.5.0",
            "_view_count": null,
            "_view_module_version": "1.2.0",
            "bar_color": null,
            "_model_module": "@jupyter-widgets/controls"
          }
        },
        "a030f4a7a9e84d46852f006e7c1fcf95": {
          "model_module": "@jupyter-widgets/base",
          "model_name": "LayoutModel",
          "model_module_version": "1.2.0",
          "state": {
            "_view_name": "LayoutView",
            "grid_template_rows": null,
            "right": null,
            "justify_content": null,
            "_view_module": "@jupyter-widgets/base",
            "overflow": null,
            "_model_module_version": "1.2.0",
            "_view_count": null,
            "flex_flow": null,
            "width": null,
            "min_width": null,
            "border": null,
            "align_items": null,
            "bottom": null,
            "_model_module": "@jupyter-widgets/base",
            "top": null,
            "grid_column": null,
            "overflow_y": null,
            "overflow_x": null,
            "grid_auto_flow": null,
            "grid_area": null,
            "grid_template_columns": null,
            "flex": null,
            "_model_name": "LayoutModel",
            "justify_items": null,
            "grid_row": null,
            "max_height": null,
            "align_content": null,
            "visibility": null,
            "align_self": null,
            "height": null,
            "min_height": null,
            "padding": null,
            "grid_auto_rows": null,
            "grid_gap": null,
            "max_width": null,
            "order": null,
            "_view_module_version": "1.2.0",
            "grid_template_areas": null,
            "object_position": null,
            "object_fit": null,
            "grid_auto_columns": null,
            "margin": null,
            "display": null,
            "left": null
          }
        },
        "b8c5891c4684430ba7c3f267d8172f34": {
          "model_module": "@jupyter-widgets/controls",
          "model_name": "DescriptionStyleModel",
          "model_module_version": "1.5.0",
          "state": {
            "_view_name": "StyleView",
            "_model_name": "DescriptionStyleModel",
            "description_width": "",
            "_view_module": "@jupyter-widgets/base",
            "_model_module_version": "1.5.0",
            "_view_count": null,
            "_view_module_version": "1.2.0",
            "_model_module": "@jupyter-widgets/controls"
          }
        },
        "592c6318e3684699a907fe3eb9953914": {
          "model_module": "@jupyter-widgets/base",
          "model_name": "LayoutModel",
          "model_module_version": "1.2.0",
          "state": {
            "_view_name": "LayoutView",
            "grid_template_rows": null,
            "right": null,
            "justify_content": null,
            "_view_module": "@jupyter-widgets/base",
            "overflow": null,
            "_model_module_version": "1.2.0",
            "_view_count": null,
            "flex_flow": null,
            "width": null,
            "min_width": null,
            "border": null,
            "align_items": null,
            "bottom": null,
            "_model_module": "@jupyter-widgets/base",
            "top": null,
            "grid_column": null,
            "overflow_y": null,
            "overflow_x": null,
            "grid_auto_flow": null,
            "grid_area": null,
            "grid_template_columns": null,
            "flex": null,
            "_model_name": "LayoutModel",
            "justify_items": null,
            "grid_row": null,
            "max_height": null,
            "align_content": null,
            "visibility": null,
            "align_self": null,
            "height": null,
            "min_height": null,
            "padding": null,
            "grid_auto_rows": null,
            "grid_gap": null,
            "max_width": null,
            "order": null,
            "_view_module_version": "1.2.0",
            "grid_template_areas": null,
            "object_position": null,
            "object_fit": null,
            "grid_auto_columns": null,
            "margin": null,
            "display": null,
            "left": null
          }
        }
      }
    }
  },
  "cells": [
    {
      "cell_type": "markdown",
      "metadata": {
        "id": "iiAkLIgKFbgF"
      },
      "source": [
        "##Предисловие\n",
        "Изначально данный ноутбук был написан для кластеризации текстовых данных (в нашем случае диалогов), чтобы в последствии разметить им данные. Но пообщавшись с опытными МЛ-инжинерами мы пришли к тому, что проще разметить данные через толоку и обучить берт (можно и что-то другое) уже на размеченных данных\n",
        "\n",
        "Ниже представлен код для склеивания сообщений в диалоги и pre-processing данных.\n",
        "\n",
        "p\\s к сожалению, мне не посчастиливилось застать размеченные данные чтобы потренировать bert, но все нужные ссылки я оставил в тг для этого. \n",
        "\n",
        "- если возникнут какие-то вопросы, пиши в тг @Boro02"
      ]
    },
    {
      "cell_type": "code",
      "metadata": {
        "id": "HZGmGnPqOZ5C"
      },
      "source": [
        "import pandas as pd\n",
        "import re\n",
        "import numpy as np\n",
        "import string\n",
        "import matplotlib.pyplot as plt\n",
        "plt.style.use('ggplot')"
      ],
      "execution_count": 177,
      "outputs": []
    },
    {
      "cell_type": "code",
      "metadata": {
        "colab": {
          "base_uri": "https://localhost:8080/"
        },
        "id": "uzeWSptmoCiA",
        "outputId": "b322e3c0-0fe5-40ec-8704-d324007bd868"
      },
      "source": [
        "import nltk\n",
        "from nltk.stem import WordNetLemmatizer,PorterStemmer\n",
        "from nltk.corpus import stopwords\n",
        "from collections import defaultdict,Counter\n",
        "from nltk.corpus import stopwords\n",
        "from sklearn.feature_extraction.text import CountVectorizer\n",
        "from wordcloud import WordCloud, STOPWORDS\n",
        "from nltk.tokenize import word_tokenize\n",
        "from nltk.util import ngrams\n",
        "import string\n",
        "nltk.download('stopwords')\n",
        "stop=set(stopwords.words('russian'))"
      ],
      "execution_count": 178,
      "outputs": [
        {
          "output_type": "stream",
          "name": "stdout",
          "text": [
            "[nltk_data] Downloading package stopwords to /root/nltk_data...\n",
            "[nltk_data]   Package stopwords is already up-to-date!\n"
          ]
        }
      ]
    },
    {
      "cell_type": "code",
      "metadata": {
        "id": "3T7FUvpBOhwV"
      },
      "source": [
        "df = pd.read_excel('dialogs_2.xlsx')"
      ],
      "execution_count": 179,
      "outputs": []
    },
    {
      "cell_type": "code",
      "metadata": {
        "colab": {
          "base_uri": "https://localhost:8080/",
          "height": 206
        },
        "id": "WkRb6kYrOsDR",
        "outputId": "f9ddcd5f-9d9a-426c-e955-b84261e3c410"
      },
      "source": [
        "df.head()"
      ],
      "execution_count": 180,
      "outputs": [
        {
          "output_type": "execute_result",
          "data": {
            "text/html": [
              "<div>\n",
              "<style scoped>\n",
              "    .dataframe tbody tr th:only-of-type {\n",
              "        vertical-align: middle;\n",
              "    }\n",
              "\n",
              "    .dataframe tbody tr th {\n",
              "        vertical-align: top;\n",
              "    }\n",
              "\n",
              "    .dataframe thead th {\n",
              "        text-align: right;\n",
              "    }\n",
              "</style>\n",
              "<table border=\"1\" class=\"dataframe\">\n",
              "  <thead>\n",
              "    <tr style=\"text-align: right;\">\n",
              "      <th></th>\n",
              "      <th>Тикет_ID</th>\n",
              "      <th>ID_Клиента</th>\n",
              "      <th>Создано</th>\n",
              "      <th>text</th>\n",
              "    </tr>\n",
              "  </thead>\n",
              "  <tbody>\n",
              "    <tr>\n",
              "      <th>0</th>\n",
              "      <td>97673249</td>\n",
              "      <td>23178555</td>\n",
              "      <td>2021-09-03</td>\n",
              "      <td>Здравствуйте, MARGARITA! Выберите категорию об...</td>\n",
              "    </tr>\n",
              "    <tr>\n",
              "      <th>1</th>\n",
              "      <td>97673249</td>\n",
              "      <td>23178555</td>\n",
              "      <td>2021-09-03</td>\n",
              "      <td>23178555-0020</td>\n",
              "    </tr>\n",
              "    <tr>\n",
              "      <th>2</th>\n",
              "      <td>97673249</td>\n",
              "      <td>23178555</td>\n",
              "      <td>2021-09-03</td>\n",
              "      <td>Я передал вопрос сотруднику службы поддержки. ...</td>\n",
              "    </tr>\n",
              "    <tr>\n",
              "      <th>3</th>\n",
              "      <td>97673249</td>\n",
              "      <td>23178555</td>\n",
              "      <td>2021-09-03</td>\n",
              "      <td>Маргарита, спасибо за ожидание. Продавец доста...</td>\n",
              "    </tr>\n",
              "    <tr>\n",
              "      <th>4</th>\n",
              "      <td>97994499</td>\n",
              "      <td>71861005</td>\n",
              "      <td>2021-09-06</td>\n",
              "      <td>Здравствуйте, Олег! Выберите категорию обращения.</td>\n",
              "    </tr>\n",
              "  </tbody>\n",
              "</table>\n",
              "</div>"
            ],
            "text/plain": [
              "   Тикет_ID  ...                                               text\n",
              "0  97673249  ...  Здравствуйте, MARGARITA! Выберите категорию об...\n",
              "1  97673249  ...                                      23178555-0020\n",
              "2  97673249  ...  Я передал вопрос сотруднику службы поддержки. ...\n",
              "3  97673249  ...  Маргарита, спасибо за ожидание. Продавец доста...\n",
              "4  97994499  ...  Здравствуйте, Олег! Выберите категорию обращения.\n",
              "\n",
              "[5 rows x 4 columns]"
            ]
          },
          "metadata": {},
          "execution_count": 180
        }
      ]
    },
    {
      "cell_type": "code",
      "metadata": {
        "id": "v48tLWCZOuF7"
      },
      "source": [
        "new_df = df.groupby(['Тикет_ID','ID_Клиента','Создано'])['text'].apply(lambda x: \"%s\" % ' // '.join(x)) # группирую по всему, кроме текста"
      ],
      "execution_count": 181,
      "outputs": []
    },
    {
      "cell_type": "code",
      "metadata": {
        "colab": {
          "base_uri": "https://localhost:8080/"
        },
        "id": "7TGKVEh6PA6w",
        "outputId": "fe21b462-14fa-4aa8-efee-e11175bd69ba"
      },
      "source": [
        "df.groupby('Тикет_ID')['ID_Клиента','Создано']"
      ],
      "execution_count": 182,
      "outputs": [
        {
          "output_type": "execute_result",
          "data": {
            "text/plain": [
              "<pandas.core.groupby.generic.DataFrameGroupBy object at 0x7f206db27710>"
            ]
          },
          "metadata": {},
          "execution_count": 182
        }
      ]
    },
    {
      "cell_type": "code",
      "metadata": {
        "colab": {
          "base_uri": "https://localhost:8080/"
        },
        "id": "1PTrdwRAPA9p",
        "outputId": "20604746-83f6-4203-bfe2-a881eeeeca0b"
      },
      "source": [
        "new_df"
      ],
      "execution_count": 183,
      "outputs": [
        {
          "output_type": "execute_result",
          "data": {
            "text/plain": [
              "Тикет_ID  ID_Клиента  Создано   \n",
              "97418784  73933164    2021-09-01    Где мой заказ? // Вы имеете в виду заказ 73933...\n",
              "97422129  73664365    2021-09-01    73664365-0003 // Когда он будет? // Я передал ...\n",
              "97423399  42110626    2021-09-01    42110626-0008 // Я передал вопрос сотруднику с...\n",
              "97423522  42211530    2021-09-01    Здравствуйте, Елена! Выберите категорию обраще...\n",
              "97423782  44539777    2021-09-01    Здравствуйте, Владислав! Выберите категорию об...\n",
              "                                                          ...                        \n",
              "98104418  254814      2021-09-06    00254814-0053 // Я передал вопрос сотруднику с...\n",
              "98104492  55068836    2021-09-06    Ранее вы оставляли отзыв о товаре \"Одеяло Иван...\n",
              "98105394  49969305    2021-09-06    Здравствуйте, Владимир! Выберите категорию обр...\n",
              "98106909  46335211    2021-09-06    Где мой заказ? // Выберите номер заказа, котор...\n",
              "98114321  44739213    2021-09-06    Здравствуйте, Александр! Выберите категорию об...\n",
              "Name: text, Length: 273, dtype: object"
            ]
          },
          "metadata": {},
          "execution_count": 183
        }
      ]
    },
    {
      "cell_type": "code",
      "metadata": {
        "colab": {
          "base_uri": "https://localhost:8080/",
          "height": 87
        },
        "id": "gK29GhLqPBAC",
        "outputId": "af077ffe-8fbb-46d5-d48a-88dde9d3408b"
      },
      "source": [
        "new_df.iloc[8]"
      ],
      "execution_count": 184,
      "outputs": [
        {
          "output_type": "execute_result",
          "data": {
            "application/vnd.google.colaboratory.intrinsic+json": {
              "type": "string"
            },
            "text/plain": [
              "'Здравствуйте, Мария! Выберите категорию обращения. // Где мой заказ? // Вы имеете в виду заказ 20279744-0029? // Да // Я передал вопрос сотруднику службы поддержки. Он вернется с ответом в течение 9 минут, вам придёт уведомление. // Мария, спасибо за ожидание. Понимаю вас и ваше волнение. Но прошу вас не переживать. Я проверил информацию по вашему вопросу. Ваш заказ уже приближается к вашему городу. Мы доставим его сегодня до 00:00 включительно в пункт выдачи по адресу Россия, Московская обл., Фрязино, ул. Мира, 29. О его прибытии уведомим вас по почте. Так же придёт Push-уведомление в приложении. Если появятся дополнительные вопросы, напишите в чат. Мы во всём разберёмся и обязательно поможем вам. Хорошего дня🌸'"
            ]
          },
          "metadata": {},
          "execution_count": 184
        }
      ]
    },
    {
      "cell_type": "markdown",
      "metadata": {
        "id": "fbwKvPMFG_Hy"
      },
      "source": [
        "Как видим, смс склеились в диалоги\n",
        "# теперь почистим немного наши данные "
      ]
    },
    {
      "cell_type": "code",
      "metadata": {
        "id": "MSH_WpjSR-nA"
      },
      "source": [
        "new_df = new_df.reset_index(['Тикет_ID','ID_Клиента','Создано'])"
      ],
      "execution_count": 186,
      "outputs": []
    },
    {
      "cell_type": "code",
      "metadata": {
        "id": "P6FcL-nyR-ur"
      },
      "source": [
        "new_df['text'] = new_df['text'].apply(lambda x: re.sub(\"\\n\",\" \",x))"
      ],
      "execution_count": 187,
      "outputs": []
    },
    {
      "cell_type": "code",
      "metadata": {
        "id": "WyeykzJgVx7j"
      },
      "source": [
        "new_df['text'] = new_df['text'].apply(lambda x: re.sub(\"//\",\"\",x))"
      ],
      "execution_count": 188,
      "outputs": []
    },
    {
      "cell_type": "code",
      "source": [
        "def remove_emojis(data):\n",
        "    emoj = re.compile(\"[\"\n",
        "        u\"\\U0001F600-\\U0001F64F\" \n",
        "        u\"\\U0001F300-\\U0001F5FF\"  \n",
        "        u\"\\U0001F680-\\U0001F6FF\"  \n",
        "        u\"\\U0001F1E0-\\U0001F1FF\"  \n",
        "        u\"\\U00002500-\\U00002BEF\" \n",
        "        u\"\\U00002702-\\U000027B0\"\n",
        "        u\"\\U00002702-\\U000027B0\"\n",
        "        u\"\\U000024C2-\\U0001F251\"\n",
        "        u\"\\U0001f926-\\U0001f937\"\n",
        "        u\"\\U00010000-\\U0010ffff\"\n",
        "        u\"\\u2640-\\u2642\" \n",
        "        u\"\\u2600-\\u2B55\"\n",
        "        u\"\\u200d\"\n",
        "        u\"\\u23cf\"\n",
        "        u\"\\u23e9\"\n",
        "        u\"\\u231a\"\n",
        "        u\"\\ufe0f\" \n",
        "        u\"\\u3030\"\n",
        "                      \"]+\", re.UNICODE)\n",
        "    return re.sub(emoj, '', data)\n",
        "new_df['text']=new_df['text'].apply(lambda x : remove_emojis(x))"
      ],
      "metadata": {
        "id": "DWuMAOU-kGcZ"
      },
      "execution_count": 189,
      "outputs": []
    },
    {
      "cell_type": "code",
      "metadata": {
        "id": "yi7mthJ8Yhmw"
      },
      "source": [
        "def remove_URL(text):\n",
        "    url = re.compile(r'http\\S+')\n",
        "    return url.sub(r'',text)\n",
        "\n",
        "new_df['text']=new_df['text'].apply(lambda x : remove_URL(x))"
      ],
      "execution_count": 190,
      "outputs": []
    },
    {
      "cell_type": "code",
      "metadata": {
        "id": "ziZKoqneYhrM"
      },
      "source": [
        "def remove_html(text):\n",
        "    html=re.compile(r'<.*?>')\n",
        "    return html.sub(r'',text)\n",
        "new_df['text']=new_df['text'].apply(lambda x : remove_html(x))"
      ],
      "execution_count": 192,
      "outputs": []
    },
    {
      "cell_type": "code",
      "metadata": {
        "id": "fNSaF3fXZI_j"
      },
      "source": [
        "def lower(text):\n",
        "    low_text= text.lower()\n",
        "    return low_text\n",
        "new_df['text'] = new_df['text'].apply(lambda x : lower(x))"
      ],
      "execution_count": 193,
      "outputs": []
    },
    {
      "cell_type": "code",
      "metadata": {
        "id": "lBg-KKvjZkDV"
      },
      "source": [
        "def clean_numbers(x):\n",
        "    if bool(re.search(r'\\d', x)):\n",
        "        x = re.sub('[0-9]{5,}', '#####', x)\n",
        "        x = re.sub('[0-9]{4}', '####', x)\n",
        "        x = re.sub('[0-9]{3}', '###', x)\n",
        "        x = re.sub('[0-9]{2}', '##', x)\n",
        "    return x\n",
        "\n",
        "new_df['text']=new_df['text'].apply(lambda x : clean_numbers(x))"
      ],
      "execution_count": 194,
      "outputs": []
    },
    {
      "cell_type": "code",
      "metadata": {
        "id": "Jfuexrs8mUGm"
      },
      "source": [
        "def remove_punct(text):\n",
        "    table=str.maketrans('','',string.punctuation)\n",
        "    return text.translate(table)\n",
        "\n",
        "new_df['text']=new_df['text'].apply(lambda x : remove_punct(x))"
      ],
      "execution_count": 195,
      "outputs": []
    },
    {
      "cell_type": "code",
      "metadata": {
        "id": "UOGendNEBfwA"
      },
      "source": [
        "new_df.drop(['Тикет_ID', 'ID_Клиента', 'Создано'], axis=1, inplace=True)"
      ],
      "execution_count": 196,
      "outputs": []
    },
    {
      "cell_type": "code",
      "source": [
        "import matplotlib as mpl\n",
        "import matplotlib.pyplot as plt\n",
        "%matplotlib inline\n",
        "\n",
        "from PIL import Image\n",
        "from wordcloud import WordCloud, STOPWORDS, ImageColorGenerator\n",
        "\n",
        "import warnings \n",
        "warnings.filterwarnings('ignore')"
      ],
      "metadata": {
        "id": "JzpAtI1gO9cw"
      },
      "execution_count": 197,
      "outputs": []
    },
    {
      "cell_type": "code",
      "source": [
        "import wordcloud "
      ],
      "metadata": {
        "id": "9KMGMwwdRrQE"
      },
      "execution_count": 198,
      "outputs": []
    },
    {
      "cell_type": "code",
      "source": [
        "text = new_df['text'].values \n",
        "\n",
        "wordcloud = WordCloud().generate(str(text))\n",
        "\n",
        "plt.imshow(wordcloud)\n",
        "plt.axis(\"off\")\n",
        "plt.show()"
      ],
      "metadata": {
        "colab": {
          "base_uri": "https://localhost:8080/",
          "height": 198
        },
        "id": "m6cfocT4PAlD",
        "outputId": "181206bc-6223-4281-9a2d-4145b1be1fe9"
      },
      "execution_count": 199,
      "outputs": [
        {
          "output_type": "display_data",
          "data": {
            "image/png": "[encoded data removed]",
            "text/plain": [
              "<Figure size 432x288 with 1 Axes>"
            ]
          },
          "metadata": {
            "needs_background": "light"
          }
        }
      ]
    },
    {
      "cell_type": "code",
      "source": [
        "def create_corpus():\n",
        "    corpus=[]\n",
        "    \n",
        "    for x in new_df['text'].str.split():\n",
        "        for i in x:\n",
        "            corpus.append(i)\n",
        "    return corpus"
      ],
      "metadata": {
        "id": "RXnR_d48UiRO"
      },
      "execution_count": null,
      "outputs": []
    },
    {
      "cell_type": "code",
      "source": [
        "from collections import defaultdict,Counter\n",
        "\n",
        "corpus=create_corpus()\n",
        "\n",
        "dic=defaultdict(int)\n",
        "for word in corpus:\n",
        "    if word in stop:\n",
        "        dic[word]+=1\n",
        "        \n",
        "top=sorted(dic.items(), key=lambda x:x[1],reverse=True)[:10] \n",
        "x,y=zip(*top)\n",
        "plt.bar(x,y, color=\"red\")"
      ],
      "metadata": {
        "colab": {
          "base_uri": "https://localhost:8080/",
          "height": 391
        },
        "id": "nDU77A-hUs7a",
        "outputId": "e594e27e-e03f-41ac-bfa1-237afb5b5bbc"
      },
      "execution_count": null,
      "outputs": [
        {
          "output_type": "execute_result",
          "data": {
            "text/plain": [
              "<BarContainer object of 10 artists>"
            ]
          },
          "metadata": {},
          "execution_count": 92
        },
        {
          "output_type": "display_data",
          "data": {
            "image/png": "[encoded data removed]",
            "text/plain": [
              "<Figure size 1296x432 with 1 Axes>"
            ]
          },
          "metadata": {
            "needs_background": "light"
          }
        }
      ]
    },
    {
      "cell_type": "code",
      "source": [
        "counter=Counter(corpus)\n",
        "most=counter.most_common()\n",
        "x=[]\n",
        "y=[]\n",
        "for word,count in most[:40]:\n",
        "    if (word not in stop) :\n",
        "        x.append(word)\n",
        "        y.append(count)"
      ],
      "metadata": {
        "id": "IydE1U6nWI73"
      },
      "execution_count": null,
      "outputs": []
    },
    {
      "cell_type": "code",
      "source": [
        "import seaborn as sns\n",
        "sns.barplot(x=y,y=x)"
      ],
      "metadata": {
        "colab": {
          "base_uri": "https://localhost:8080/",
          "height": 391
        },
        "id": "O1PCvvtKWTTg",
        "outputId": "d2ad7134-64d8-4f4f-c34d-254bb0082cbb"
      },
      "execution_count": null,
      "outputs": [
        {
          "output_type": "execute_result",
          "data": {
            "text/plain": [
              "<matplotlib.axes._subplots.AxesSubplot at 0x7f206ec2d450>"
            ]
          },
          "metadata": {},
          "execution_count": 96
        },
        {
          "output_type": "display_data",
          "data": {
            "image/png": "[encoded data removed]",
            "text/plain": [
              "<Figure size 1296x432 with 1 Axes>"
            ]
          },
          "metadata": {
            "needs_background": "light"
          }
        }
      ]
    },
    {
      "cell_type": "code",
      "source": [
        "def get_top_tweet_bigrams(corpus, n=None):\n",
        "    vec = CountVectorizer(ngram_range=(2, 2)).fit(corpus)\n",
        "    bag_of_words = vec.transform(corpus)\n",
        "    sum_words = bag_of_words.sum(axis=0) \n",
        "    words_freq = [(word, sum_words[0, idx]) for word, idx in vec.vocabulary_.items()]\n",
        "    words_freq =sorted(words_freq, key = lambda x: x[1], reverse=True)\n",
        "    return words_freq[:n]"
      ],
      "metadata": {
        "id": "gwqcuEHnXGfS"
      },
      "execution_count": null,
      "outputs": []
    },
    {
      "cell_type": "code",
      "source": [
        "plt.figure(figsize=(10,5))\n",
        "top_tweet_bigrams=get_top_tweet_bigrams(new_df['text'])[:16]\n",
        "x,y=map(list,zip(*top_tweet_bigrams))\n",
        "sns.barplot(x=y,y=x)"
      ],
      "metadata": {
        "colab": {
          "base_uri": "https://localhost:8080/",
          "height": 337
        },
        "id": "CfCb8tsOXQR8",
        "outputId": "db9dcd19-6aaa-4c35-9e58-d63ef45f7e17"
      },
      "execution_count": null,
      "outputs": [
        {
          "output_type": "execute_result",
          "data": {
            "text/plain": [
              "<matplotlib.axes._subplots.AxesSubplot at 0x7f206c69f210>"
            ]
          },
          "metadata": {},
          "execution_count": 100
        },
        {
          "output_type": "display_data",
          "data": {
            "image/png": "[encoded data removed]",
            "text/plain": [
              "<Figure size 720x360 with 1 Axes>"
            ]
          },
          "metadata": {
            "needs_background": "light"
          }
        }
      ]
    },
    {
      "cell_type": "code",
      "source": [
        "def generate_ngrams(text, n_gram=1):\n",
        "    token = [token for token in text.lower().split(' ') if token != '' if token not in STOPWORDS]\n",
        "    ngrams = zip(*[token[i:] for i in range(n_gram)])\n",
        "    return [' '.join(ngram) for ngram in ngrams]\n",
        "\n",
        "N = 30\n",
        "\n",
        "\n",
        "unigram = defaultdict(int)\n",
        "\n",
        "\n",
        "# Униграмы\n",
        "for tweet in new_df['text']:\n",
        "    for word in generate_ngrams(tweet):\n",
        "        unigram[word] += 1\n",
        "        \n",
        "      \n",
        "        \n",
        "df_unigram = pd.DataFrame(sorted(unigram.items(), key=lambda x: x[1])[::-1])\n",
        "\n",
        "\n",
        "fig, axes = plt.subplots(ncols=2, figsize=(5, 5), dpi=100)\n",
        "plt.tight_layout()\n",
        "\n",
        "sns.barplot(y=df_unigram[0].values[:N], x=df_unigram[1].values[:N], ax=axes[0], color='green')\n",
        "\n",
        "\n",
        "\n",
        "plt.show()"
      ],
      "metadata": {
        "colab": {
          "base_uri": "https://localhost:8080/",
          "height": 507
        },
        "id": "taH7O3RYXv1A",
        "outputId": "d132dc5a-47bb-4972-f8bb-a8458f5651c3"
      },
      "execution_count": null,
      "outputs": [
        {
          "output_type": "display_data",
          "data": {
            "image/png": "[encoded data removed]",
            "text/plain": [
              "<Figure size 500x500 with 2 Axes>"
            ]
          },
          "metadata": {
            "needs_background": "light"
          }
        }
      ]
    },
    {
      "cell_type": "code",
      "source": [
        "N = 15\n",
        "\n",
        "# Bigrams\n",
        "positive_bigrams = defaultdict(int)\n",
        "\n",
        "\n",
        "\n",
        "for tweet in new_df['text']:\n",
        "    for word in generate_ngrams(tweet, n_gram=2):\n",
        "        positive_bigrams[word] += 1\n",
        "        \n",
        "      \n",
        "        \n",
        "df_positive_bigrams = pd.DataFrame(sorted(positive_bigrams.items(), key=lambda x: x[1])[::-1])\n",
        "\n",
        "\n",
        "fig, axes = plt.subplots(ncols=2, figsize=(4, 4), dpi=100)\n",
        "plt.tight_layout()\n",
        "\n",
        "sns.barplot(y=df_positive_bigrams[0].values[:N], x=df_positive_bigrams[1].values[:N], ax=axes[0], color='green')\n",
        "\n",
        "\n",
        "\n",
        "\n",
        "plt.show()"
      ],
      "metadata": {
        "colab": {
          "base_uri": "https://localhost:8080/",
          "height": 407
        },
        "id": "tAfriyBZdayJ",
        "outputId": "c57e4961-5db6-4b31-9338-b4aae881b255"
      },
      "execution_count": null,
      "outputs": [
        {
          "output_type": "display_data",
          "data": {
            "image/png": "[encoded data removed]",
            "text/plain": [
              "<Figure size 400x400 with 2 Axes>"
            ]
          },
          "metadata": {
            "needs_background": "light"
          }
        }
      ]
    },
    {
      "cell_type": "markdown",
      "source": [
        "Нужно заказать клининг :)"
      ],
      "metadata": {
        "id": "YYC1HdW2c8MU"
      }
    },
    {
      "cell_type": "markdown",
      "metadata": {
        "id": "SfGeR31RHL1p"
      },
      "source": [
        "Далее разбиваем диалоги на токены и создаем лемматизацию для приведения всех сообщений в именительный падеж, чтобы \"красивый\" и \"красивая\" не отличались друг от друга"
      ]
    },
    {
      "cell_type": "markdown",
      "source": [
        "#Токенизация и лемматизация (если планируется использовать не BERT)"
      ],
      "metadata": {
        "id": "HhZhAvYwFNoz"
      }
    },
    {
      "cell_type": "code",
      "source": [
        "df2 = new_df.copy()"
      ],
      "metadata": {
        "id": "iBOKU_AjKpC6"
      },
      "execution_count": null,
      "outputs": []
    },
    {
      "cell_type": "code",
      "source": [
        "!pip install pymorphy2"
      ],
      "metadata": {
        "colab": {
          "base_uri": "https://localhost:8080/"
        },
        "id": "z-ro3WebDWp8",
        "outputId": "54bef723-4b6f-4122-e57e-cbfc2606b296"
      },
      "execution_count": null,
      "outputs": [
        {
          "output_type": "stream",
          "name": "stdout",
          "text": [
            "Collecting pymorphy2\n",
            "  Downloading pymorphy2-0.9.1-py3-none-any.whl (55 kB)\n",
            "\u001b[?25l\r\u001b[K     |██████                          | 10 kB 22.1 MB/s eta 0:00:01\r\u001b[K     |███████████▉                    | 20 kB 28.1 MB/s eta 0:00:01\r\u001b[K     |█████████████████▊              | 30 kB 21.4 MB/s eta 0:00:01\r\u001b[K     |███████████████████████▋        | 40 kB 17.5 MB/s eta 0:00:01\r\u001b[K     |█████████████████████████████▌  | 51 kB 7.7 MB/s eta 0:00:01\r\u001b[K     |████████████████████████████████| 55 kB 2.6 MB/s \n",
            "\u001b[?25hCollecting pymorphy2-dicts-ru<3.0,>=2.4\n",
            "  Downloading pymorphy2_dicts_ru-2.4.417127.4579844-py2.py3-none-any.whl (8.2 MB)\n",
            "\u001b[K     |████████████████████████████████| 8.2 MB 11.1 MB/s \n",
            "\u001b[?25hRequirement already satisfied: docopt>=0.6 in /usr/local/lib/python3.7/dist-packages (from pymorphy2) (0.6.2)\n",
            "Collecting dawg-python>=0.7.1\n",
            "  Downloading DAWG_Python-0.7.2-py2.py3-none-any.whl (11 kB)\n",
            "Installing collected packages: pymorphy2-dicts-ru, dawg-python, pymorphy2\n",
            "Successfully installed dawg-python-0.7.2 pymorphy2-0.9.1 pymorphy2-dicts-ru-2.4.417127.4579844\n"
          ]
        }
      ]
    },
    {
      "cell_type": "code",
      "source": [
        "from nltk import sent_tokenize, word_tokenize, regexp_tokenize\n",
        "from pymorphy2 import MorphAnalyzer\n",
        "\n",
        "\n",
        "\n",
        "def tokenize_n_normalize(sent, pat=r\"(?u)\\b\\w\\w+\\b\", morph=MorphAnalyzer()):\n",
        "    return [morph.parse(tok)[0].normal_form \n",
        "            for tok in regexp_tokenize(sent, pat)]\n",
        "\n",
        "\n",
        "\n",
        "df2[\"text\"] = df2[\"text\"].map(lambda x: \" \".join(tokenize_n_normalize(x)))"
      ],
      "metadata": {
        "id": "TDd1kxm9JqmK"
      },
      "execution_count": null,
      "outputs": []
    },
    {
      "cell_type": "markdown",
      "source": [
        "#Токенизация (если планируется использовать BERT)"
      ],
      "metadata": {
        "id": "kOftTG0TKxK3"
      }
    },
    {
      "cell_type": "code",
      "metadata": {
        "colab": {
          "base_uri": "https://localhost:8080/"
        },
        "id": "wPplZLYXBf7D",
        "outputId": "a541785a-1152-4ddb-98f6-d00f7b77032b"
      },
      "source": [
        "import nltk\n",
        "nltk.download('punkt')"
      ],
      "execution_count": null,
      "outputs": [
        {
          "output_type": "stream",
          "name": "stdout",
          "text": [
            "[nltk_data] Downloading package punkt to /root/nltk_data...\n",
            "[nltk_data]   Unzipping tokenizers/punkt.zip.\n"
          ]
        },
        {
          "output_type": "execute_result",
          "data": {
            "text/plain": [
              "True"
            ]
          },
          "metadata": {},
          "execution_count": 19
        }
      ]
    },
    {
      "cell_type": "code",
      "source": [
        "new_df['text'] = new_df.apply(lambda row: nltk.word_tokenize(row['text']), axis=1)\n"
      ],
      "metadata": {
        "id": "tOTg6_0-EFUI"
      },
      "execution_count": null,
      "outputs": []
    },
    {
      "cell_type": "markdown",
      "source": [
        "#После отчистки данных от мусора и анализа n_grams можно создать собственный список стоп слов и заджоинить его с небольшим импортированным, чтобы убрать шумовые слова"
      ],
      "metadata": {
        "id": "9GVd9aPyMB_g"
      }
    },
    {
      "cell_type": "markdown",
      "source": [
        "Поскольку используя TF_IDF можно выкинуть нужные нам слова, например заказ - информативное слово, которое на самом деле имеет большую предсказательную силу, мы воспользуемся классическим выбрасыванием стоп слов - списком \n"
      ],
      "metadata": {
        "id": "RQ-suGmcNznG"
      }
    },
    {
      "cell_type": "code",
      "metadata": {
        "id": "xDAUhjFhx2h7"
      },
      "source": [
        "custom_stop_phrases = ['здравствуйте', 'спасибо за ожидание', 'хорошего дня', 'добрый день', \n",
        "                       'всего доброго', 'будем рады помочь', 'выберите категорию обращения', 'обязательно решим ваш вопрос'\n",
        "                       ,'дождались ответа ']\n",
        "for i in custom_stop_phrases:\n",
        "    stop.add(i)"
      ],
      "execution_count": null,
      "outputs": []
    },
    {
      "cell_type": "code",
      "metadata": {
        "id": "BNJAF8oWnIBj"
      },
      "source": [
        "STOPWORDS = set(stopwords.words('russian'))\n",
        "# функция для удаления стоп-слов\n",
        "def stopwords(text):\n",
        "    return \" \".join([word for word in str(text).split() if word not in stop])\n",
        "df2[\"text\"] = df2[\"text\"].apply(stopwords)"
      ],
      "execution_count": null,
      "outputs": []
    },
    {
      "cell_type": "code",
      "source": [
        ""
      ],
      "metadata": {
        "id": "fG6xoWnmOmvg"
      },
      "execution_count": null,
      "outputs": []
    },
    {
      "cell_type": "code",
      "source": [
        ""
      ],
      "metadata": {
        "id": "Vhez4Q4sOms5"
      },
      "execution_count": null,
      "outputs": []
    },
    {
      "cell_type": "code",
      "source": [
        ""
      ],
      "metadata": {
        "id": "4y1HpF7WOmTV"
      },
      "execution_count": null,
      "outputs": []
    },
    {
      "cell_type": "markdown",
      "source": [
        "##Здесь лежит пример реализации сабсемплинга, может помочь при обучении"
      ],
      "metadata": {
        "id": "5N7mbolQo2z0"
      }
    },
    {
      "cell_type": "code",
      "metadata": {
        "colab": {
          "base_uri": "https://localhost:8080/"
        },
        "id": "N3cpaNbPUK1B",
        "outputId": "5cee5abc-0f03-4a5b-eff6-0029a340e6db"
      },
      "source": [
        "! wget https://raw.githubusercontent.com/hse-ds/iad-deep-learning/master/2021/seminars/sem07/utils.py"
      ],
      "execution_count": null,
      "outputs": [
        {
          "output_type": "stream",
          "name": "stdout",
          "text": [
            "--2021-12-06 10:36:16--  https://raw.githubusercontent.com/hse-ds/iad-deep-learning/master/2021/seminars/sem07/utils.py\n",
            "Resolving raw.githubusercontent.com (raw.githubusercontent.com)... 185.199.108.133, 185.199.109.133, 185.199.110.133, ...\n",
            "Connecting to raw.githubusercontent.com (raw.githubusercontent.com)|185.199.108.133|:443... connected.\n",
            "HTTP request sent, awaiting response... 200 OK\n",
            "Length: 1516 (1.5K) [text/plain]\n",
            "Saving to: ‘utils.py’\n",
            "\n",
            "\rutils.py              0%[                    ]       0  --.-KB/s               \rutils.py            100%[===================>]   1.48K  --.-KB/s    in 0s      \n",
            "\n",
            "2021-12-06 10:36:17 (19.0 MB/s) - ‘utils.py’ saved [1516/1516]\n",
            "\n"
          ]
        }
      ]
    },
    {
      "cell_type": "code",
      "metadata": {
        "id": "U3_CIa9XUr2A"
      },
      "source": [
        "# new_df.drop(['Тикет_ID', 'ID_Клиента', 'Создано'], axis=1, inplace=True)\n",
        "new_df = new_df.astype(str)"
      ],
      "execution_count": null,
      "outputs": []
    },
    {
      "cell_type": "code",
      "metadata": {
        "id": "PnGnqGUkWHCI"
      },
      "source": [
        "texts = new_df['text'].to_numpy()\n",
        "np.savetxt('dialogs_utf8.txt', texts, delimiter='\\n', fmt='%s', encoding='utf-8')"
      ],
      "execution_count": null,
      "outputs": []
    },
    {
      "cell_type": "code",
      "metadata": {
        "colab": {
          "base_uri": "https://localhost:8080/"
        },
        "id": "9Zo6iftcaYCZ",
        "outputId": "08a9818e-092d-4da3-b0a9-27203da6ac67"
      },
      "source": [
        "# чтение файла     \n",
        "with open('dialogs_utf8.txt') as f:\n",
        "    text = f.read()\n",
        "\n",
        "# пример\n",
        "print(text[:1000])"
      ],
      "execution_count": null,
      "outputs": [
        {
          "output_type": "stream",
          "name": "stdout",
          "text": [
            "где мой заказ  вы имеете в виду заказ   да  я передал вопрос сотруднику службы поддержки извините сейчас обращений очень много поэтому время ответа может составить до 3 часов мы пришлём вам уведомление и обязательно решим ваш вопрос  ответы на самые частые вопросы можно найти в помощи httpsdocsozonrucommon  здравствуйте сергей спасибо за ожидание  судя по данным трекномера  августа ваш заказ был в москве значит сегодня уже должен приехать к вам в город  за более подробной информацией рекомендую вам обратиться в транспортную компанию сдек они смогут более точно сообщить вам о местоположении заказа и сроки доставки  телефон сдек   если у вас появятся вопросы пожалуйста пишите нам \n",
            "  когда он будет  я передал вопрос сотруднику службы поддержки он вернется с ответом в течение  минут вам придёт уведомление  татьяна спасибо вам за ожидание ответа к сожалению товары не доставлены в обещанную дату для уточнения новой даты доставки обратитесь в транспортную компанию по номеру  или свяжитесь с п\n"
          ]
        }
      ]
    },
    {
      "cell_type": "code",
      "metadata": {
        "colab": {
          "base_uri": "https://localhost:8080/"
        },
        "id": "zDJEdNkRUK3Y",
        "outputId": "c1f72c9d-bed1-4d5c-ac0d-0fd32d527706"
      },
      "source": [
        "import utils\n",
        "\n",
        "words = utils.preprocess(text)\n",
        "print(words[:30])"
      ],
      "execution_count": null,
      "outputs": [
        {
          "output_type": "stream",
          "name": "stdout",
          "text": [
            "['где', 'мой', 'заказ', 'вы', 'имеете', 'в', 'виду', 'заказ', 'да', 'я', 'передал', 'вопрос', 'сотруднику', 'службы', 'поддержки', 'извините', 'сейчас', 'обращений', 'очень', 'много', 'поэтому', 'время', 'ответа', 'может', 'составить', 'до', '3', 'часов', 'мы', 'пришлём']\n"
          ]
        }
      ]
    },
    {
      "cell_type": "code",
      "metadata": {
        "id": "AXYyQ9VbUK6I",
        "colab": {
          "base_uri": "https://localhost:8080/"
        },
        "outputId": "b0ffdcad-b656-42fe-a117-a211063a3268"
      },
      "source": [
        "# немного статистики вкинем\n",
        "print(f\"Total words in text: {len(words)}\")\n",
        "print(f\"Unique words: {len(set(words))}\")"
      ],
      "execution_count": null,
      "outputs": [
        {
          "output_type": "stream",
          "name": "stdout",
          "text": [
            "Total words in text: 25883\n",
            "Unique words: 582\n"
          ]
        }
      ]
    },
    {
      "cell_type": "code",
      "metadata": {
        "colab": {
          "base_uri": "https://localhost:8080/"
        },
        "id": "t3zS3T7atI3P",
        "outputId": "11708194-291b-4e28-f610-829793f64e1e"
      },
      "source": [
        "vocab_to_int, int_to_vocab = utils.create_lookup_tables(words)\n",
        "int_words = [vocab_to_int[word] for word in words]\n",
        "\n",
        "print(int_words[:30])"
      ],
      "execution_count": null,
      "outputs": [
        {
          "output_type": "stream",
          "name": "stdout",
          "text": [
            "[57, 62, 2, 8, 55, 0, 54, 2, 79, 3, 18, 9, 19, 12, 14, 156, 87, 209, 139, 199, 102, 80, 113, 221, 525, 65, 93, 272, 36, 257]\n"
          ]
        }
      ]
    },
    {
      "cell_type": "markdown",
      "metadata": {
        "id": "8_msLPeKT4yX"
      },
      "source": [
        "#### Subsampling\n",
        "\n",
        "Часто встречающиеся слова, такие как «здраствуйте», «добрый» и «уточняю», не обеспечивают особого контекста для близлежащих слов. \n",
        "Если мы отбросим некоторые из них, мы сможем удалить часть шума из наших данных и взамен получить более быстрое обучение и лучшее представление. \n",
        "Этот процесс иногда называют субдискретизацией. \n",
        "Для каждого слова $w_i$ в обучающем наборе мы отбрасываем его с вероятностью, равной\n",
        "\n",
        "$$ P(w_i) = 1 - \\sqrt{\\frac{t}{f(w_i)}} $$\n",
        "\n",
        "где $t$ - пороговый параметр, а $f(w_i)$ - частота слова $w_i$ в общем наборе данных.\n",
        "\n",
        "$$ P(0) = 1 - \\sqrt{\\frac{1*10^{-5}}{10^6/(16*10^6)}} = 0.98735 $$\n",
        "\n",
        "<br>\n"
      ]
    },
    {
      "cell_type": "code",
      "metadata": {
        "id": "gcH1QUVvT22k",
        "colab": {
          "base_uri": "https://localhost:8080/",
          "height": 66,
          "referenced_widgets": [
            "83f9710c6cc84d41bcb24628e0e25ade",
            "759e32525a87410cbe995716555828db",
            "24a1453d7c26424d8a0a5d183dd4991a",
            "fbe83c4b918b4dc4869d3bed2f08c216",
            "7250f6ada9ea4cfda410cc3188b0720d",
            "b1222121af60458780166c077c84c64b",
            "f3ad0cb633514f058acaf2c114b40546",
            "b5c6bf6a45a6414f84e1b4982ff81235",
            "a030f4a7a9e84d46852f006e7c1fcf95",
            "b8c5891c4684430ba7c3f267d8172f34",
            "592c6318e3684699a907fe3eb9953914"
          ]
        },
        "outputId": "af0aaf76-8ab3-427f-e68a-f2484041f8f6"
      },
      "source": [
        "import random\n",
        "from collections import Counter\n",
        "\n",
        "import numpy as np\n",
        "from tqdm.auto import tqdm, trange\n",
        "\n",
        "\n",
        "threshold = 1e-5\n",
        "word_counts = Counter(int_words)  # словарь с количеством появлений каждого слова \n",
        "print(f\"42-th word appears in the text {word_counts[42]} times\")  \n",
        "\n",
        "# выбросим несколько слов как завещал отец сабсемплинга\n",
        "# создадим новый лист для обучения\n",
        "\n",
        "train_words = []\n",
        "\n",
        "for int_w in tqdm(int_words):\n",
        "    if random.random() < (threshold / (word_counts[int_w] / len(int_words))) ** 0.5:\n",
        "        train_words.append(int_w)\n",
        "    else:\n",
        "        continue"
      ],
      "execution_count": null,
      "outputs": [
        {
          "output_type": "stream",
          "name": "stdout",
          "text": [
            "42-th word appears in the text 150 times\n"
          ]
        },
        {
          "output_type": "display_data",
          "data": {
            "application/vnd.jupyter.widget-view+json": {
              "model_id": "83f9710c6cc84d41bcb24628e0e25ade",
              "version_minor": 0,
              "version_major": 2
            },
            "text/plain": [
              "  0%|          | 0/25883 [00:00<?, ?it/s]"
            ]
          },
          "metadata": {}
        }
      ]
    },
    {
      "cell_type": "code",
      "metadata": {
        "id": "oaEaHXcMT25X",
        "colab": {
          "base_uri": "https://localhost:8080/"
        },
        "outputId": "382cfd40-47f5-468c-99e6-3f0f76b5dedf"
      },
      "source": [
        "print(int_words[:15]) #что было зизначально\n",
        "print(train_words[:15]) #что теперь \n"
      ],
      "execution_count": null,
      "outputs": [
        {
          "output_type": "stream",
          "name": "stdout",
          "text": [
            "[57, 62, 2, 8, 55, 0, 54, 2, 79, 3, 18, 9, 19, 12, 14]\n",
            "[55, 102, 40, 258, 140, 528, 31, 7, 23, 0, 1, 253, 13, 19, 10]\n"
          ]
        }
      ]
    },
    {
      "cell_type": "code",
      "metadata": {
        "id": "Jnsw3VadT273"
      },
      "source": [
        ""
      ],
      "execution_count": null,
      "outputs": []
    },
    {
      "cell_type": "code",
      "metadata": {
        "id": "5F-Z7qALT2-a"
      },
      "source": [
        ""
      ],
      "execution_count": null,
      "outputs": []
    },
    {
      "cell_type": "code",
      "metadata": {
        "id": "COthQ463T3Bs"
      },
      "source": [
        ""
      ],
      "execution_count": null,
      "outputs": []
    },
    {
      "cell_type": "markdown",
      "source": [
        "#Попытка обучить K-Means для кластеризации \n",
        "###offtop - он плох для наших данных"
      ],
      "metadata": {
        "id": "Muov14cMpH_G"
      }
    },
    {
      "cell_type": "code",
      "metadata": {
        "id": "GTlzEH8EoYvc",
        "colab": {
          "base_uri": "https://localhost:8080/",
          "height": 104
        },
        "outputId": "97798024-0d1f-4251-a916-f9b47c842bdd"
      },
      "source": [
        "new_df['text'][8]"
      ],
      "execution_count": null,
      "outputs": [
        {
          "output_type": "execute_result",
          "data": {
            "application/vnd.google.colaboratory.intrinsic+json": {
              "type": "string"
            },
            "text/plain": [
              "'здравствуйте мария выберите категорию обращения  где мой заказ  вы имеете в виду заказ   да  я передал вопрос сотруднику службы поддержки он вернется с ответом в течение 9 минут вам придёт уведомление  мария спасибо за ожидание понимаю вас и ваше волнение но прошу вас не переживать я проверил информацию по вашему вопросу ваш заказ уже приближается к вашему городу мы доставим его сегодня до  включительно в пункт выдачи по адресу россия московская обл фрязино ул мира  о его прибытии уведомим вас по почте так же придёт pushуведомление в приложении если появятся дополнительные вопросы напишите в чат мы во всём разберёмся и обязательно поможем вам хорошего дня🌸'"
            ]
          },
          "metadata": {},
          "execution_count": 21
        }
      ]
    },
    {
      "cell_type": "code",
      "metadata": {
        "id": "Py9LEN5MoYyz"
      },
      "source": [
        "from sklearn.feature_extraction.text import TfidfVectorizer\n",
        "def vectorize(text, maxx_features):\n",
        "    \n",
        "    vectorizer = TfidfVectorizer(max_features=maxx_features)\n",
        "    X = vectorizer.fit_transform(text)\n",
        "    return X"
      ],
      "execution_count": null,
      "outputs": []
    },
    {
      "cell_type": "code",
      "metadata": {
        "id": "bph7ZfpRcPSF"
      },
      "source": [
        "text = new_df['text'].values\n",
        "max_features = 2**12\n",
        "\n",
        "X = vectorize(text, max_features)"
      ],
      "execution_count": null,
      "outputs": []
    },
    {
      "cell_type": "code",
      "metadata": {
        "colab": {
          "base_uri": "https://localhost:8080/"
        },
        "id": "Kvun4_sTc4d3",
        "outputId": "a12f392e-1a04-4443-8d59-80dab237a68d"
      },
      "source": [
        "from sklearn.decomposition import PCA\n",
        "\n",
        "pca = PCA(n_components=0.95, random_state=42)\n",
        "X_reduced= pca.fit_transform(X.toarray())\n",
        "X_reduced.shape"
      ],
      "execution_count": null,
      "outputs": [
        {
          "output_type": "execute_result",
          "data": {
            "text/plain": [
              "(273, 221)"
            ]
          },
          "metadata": {},
          "execution_count": 24
        }
      ]
    },
    {
      "cell_type": "code",
      "metadata": {
        "id": "bk1dvJkzhAnN"
      },
      "source": [
        "from sklearn.cluster import MiniBatchKMeans\n",
        "from sklearn.cluster import KMeans"
      ],
      "execution_count": null,
      "outputs": []
    },
    {
      "cell_type": "code",
      "metadata": {
        "id": "vY6rS1tHhB8v"
      },
      "source": [
        "from sklearn import metrics\n",
        "from scipy.spatial.distance import cdist\n",
        "\n",
        "# прогоняем к средних для разных к\n",
        "distortions = []\n",
        "K = range(2, 30)\n",
        "for k in K:\n",
        "    k_means = KMeans(n_clusters=k, random_state=42).fit(X_reduced)\n",
        "    k_means.fit(X_reduced)\n",
        "    distortions.append(sum(np.min(cdist(X_reduced, k_means.cluster_centers_, 'euclidean'), axis=1)) / X.shape[0])\n",
        "    #print('Found distortion for {} clusters'.format(k))"
      ],
      "execution_count": null,
      "outputs": []
    },
    {
      "cell_type": "code",
      "metadata": {
        "colab": {
          "base_uri": "https://localhost:8080/",
          "height": 299
        },
        "id": "on_laecZhB54",
        "outputId": "702a2c70-ce65-407a-9b38-a6166fb98816"
      },
      "source": [
        "X_line = [K[0], K[-1]]\n",
        "Y_line = [distortions[0], distortions[-1]]\n",
        "\n",
        "# посмотрим на локоть которого нет\n",
        "plt.plot(K, distortions, 'b-')\n",
        "plt.plot(X_line, Y_line, 'r')\n",
        "plt.xlabel('k')\n",
        "plt.ylabel('Distortion')\n",
        "plt.title('The Elbow Method showing the optimal k')\n",
        "plt.show()"
      ],
      "execution_count": null,
      "outputs": [
        {
          "output_type": "display_data",
          "data": {
            "image/png": "[encoded data removed]",
            "text/plain": [
              "<Figure size 432x288 with 1 Axes>"
            ]
          },
          "metadata": {
            "needs_background": "light"
          }
        }
      ]
    },
    {
      "cell_type": "code",
      "metadata": {
        "id": "2hexUcydlNLy"
      },
      "source": [
        "k = 4 #тут было изначально известно \n",
        "kmeans = KMeans(n_clusters=k, random_state=42)\n",
        "y_pred = kmeans.fit_predict(X_reduced)\n",
        "new_df['y'] = y_pred"
      ],
      "execution_count": null,
      "outputs": []
    },
    {
      "cell_type": "code",
      "metadata": {
        "colab": {
          "base_uri": "https://localhost:8080/"
        },
        "id": "5E_geSZ-hB2U",
        "outputId": "4428d6f3-13dd-4779-a4cb-8682bee9656e"
      },
      "source": [
        "from sklearn.manifold import TSNE\n",
        "\n",
        "tsne = TSNE(verbose=1, perplexity=50)  \n",
        "X_embedded = tsne.fit_transform(X.toarray())"
      ],
      "execution_count": null,
      "outputs": [
        {
          "output_type": "stream",
          "name": "stderr",
          "text": [
            "/usr/local/lib/python3.7/dist-packages/sklearn/manifold/_t_sne.py:783: FutureWarning: The default initialization in TSNE will change from 'random' to 'pca' in 1.2.\n",
            "  FutureWarning,\n",
            "/usr/local/lib/python3.7/dist-packages/sklearn/manifold/_t_sne.py:793: FutureWarning: The default learning rate in TSNE will change from 200.0 to 'auto' in 1.2.\n",
            "  FutureWarning,\n"
          ]
        },
        {
          "output_type": "stream",
          "name": "stdout",
          "text": [
            "[t-SNE] Computing 151 nearest neighbors...\n",
            "[t-SNE] Indexed 273 samples in 0.001s...\n",
            "[t-SNE] Computed neighbors for 273 samples in 0.021s...\n",
            "[t-SNE] Computed conditional probabilities for sample 273 / 273\n",
            "[t-SNE] Mean sigma: 0.301426\n",
            "[t-SNE] KL divergence after 250 iterations with early exaggeration: 64.148315\n",
            "[t-SNE] KL divergence after 1000 iterations: 0.940203\n"
          ]
        }
      ]
    },
    {
      "cell_type": "code",
      "metadata": {
        "colab": {
          "base_uri": "https://localhost:8080/",
          "height": 665
        },
        "id": "67_uGH5GhBzN",
        "outputId": "9280197c-c6c8-467f-f018-1d6a67cc356c"
      },
      "source": [
        "from matplotlib import pyplot as plt\n",
        "import seaborn as sns\n",
        "\n",
        "\n",
        "sns.set(rc={'figure.figsize':(10,10)})\n",
        "\n",
        "\n",
        "palette = sns.color_palette(\"bright\", 1)\n",
        "\n",
        "\n",
        "sns.scatterplot(X_embedded[:,0], X_embedded[:,1], palette=palette)\n",
        "plt.title('t-SNE with no Labels')\n",
        "plt.savefig(\"t-sne_covid19.png\")\n",
        "plt.show()"
      ],
      "execution_count": null,
      "outputs": [
        {
          "output_type": "stream",
          "name": "stderr",
          "text": [
            "/usr/local/lib/python3.7/dist-packages/seaborn/_decorators.py:43: FutureWarning: Pass the following variables as keyword args: x, y. From version 0.12, the only valid positional argument will be `data`, and passing other arguments without an explicit keyword will result in an error or misinterpretation.\n",
            "  FutureWarning\n"
          ]
        },
        {
          "output_type": "display_data",
          "data": {
            "image/png": "[encoded data removed]",
            "text/plain": [
              "<Figure size 720x720 with 1 Axes>"
            ]
          },
          "metadata": {}
        }
      ]
    },
    {
      "cell_type": "code",
      "metadata": {
        "colab": {
          "base_uri": "https://localhost:8080/",
          "height": 610
        },
        "id": "FBs-IbLYhBt8",
        "outputId": "493cecb1-6bc9-4851-bf28-b737adb2dfcf"
      },
      "source": [
        "%matplotlib inline\n",
        "from matplotlib import pyplot as plt\n",
        "import seaborn as sns\n",
        "\n",
        "sns.set(rc={'figure.figsize':(13,9)})\n",
        "\n",
        "\n",
        "sns.scatterplot(X_embedded[:,0], X_embedded[:,1], hue=y_pred, legend='full', palette='deep')\n",
        "\n",
        "plt.title('t-SNE with Kmeans Labels')\n",
        "plt.savefig(\"improved_cluster_tsne.png\")\n",
        "plt.show()"
      ],
      "execution_count": null,
      "outputs": [
        {
          "output_type": "stream",
          "name": "stderr",
          "text": [
            "/usr/local/lib/python3.7/dist-packages/seaborn/_decorators.py:43: FutureWarning: Pass the following variables as keyword args: x, y. From version 0.12, the only valid positional argument will be `data`, and passing other arguments without an explicit keyword will result in an error or misinterpretation.\n",
            "  FutureWarning\n"
          ]
        },
        {
          "output_type": "display_data",
          "data": {
            "image/png": "[encoded data removed]",
            "text/plain": [
              "<Figure size 936x648 with 1 Axes>"
            ]
          },
          "metadata": {}
        }
      ]
    },
    {
      "cell_type": "code",
      "metadata": {
        "id": "2LJ_rvDKhBrB"
      },
      "source": [
        ""
      ],
      "execution_count": null,
      "outputs": []
    },
    {
      "cell_type": "code",
      "metadata": {
        "id": "6yt4EuhQhBnw"
      },
      "source": [
        ""
      ],
      "execution_count": null,
      "outputs": []
    },
    {
      "cell_type": "code",
      "metadata": {
        "colab": {
          "base_uri": "https://localhost:8080/",
          "height": 17
        },
        "id": "HR5Z50y8PRK0",
        "outputId": "5b8ba18d-2b97-4c1e-c447-8e47a6416996"
      },
      "source": [
        "# text = new_df['text'].to_numpy()\n",
        "# np.savetxt('dialogs_utf8.txt', text, delimiter='\\n', fmt='%s', encoding='utf-8')\n",
        "\n",
        "# from google.colab import files\n",
        "\n",
        "# new_df.to_excel('dialog_text_j.xlsx', encoding='utf-8') \n",
        "# files.download('dialog_text_j.xlsx')\n"
      ],
      "execution_count": null,
      "outputs": [
        {
          "output_type": "display_data",
          "data": {
            "application/javascript": [
              "\n",
              "    async function download(id, filename, size) {\n",
              "      if (!google.colab.kernel.accessAllowed) {\n",
              "        return;\n",
              "      }\n",
              "      const div = document.createElement('div');\n",
              "      const label = document.createElement('label');\n",
              "      label.textContent = `Downloading \"${filename}\": `;\n",
              "      div.appendChild(label);\n",
              "      const progress = document.createElement('progress');\n",
              "      progress.max = size;\n",
              "      div.appendChild(progress);\n",
              "      document.body.appendChild(div);\n",
              "\n",
              "      const buffers = [];\n",
              "      let downloaded = 0;\n",
              "\n",
              "      const channel = await google.colab.kernel.comms.open(id);\n",
              "      // Send a message to notify the kernel that we're ready.\n",
              "      channel.send({})\n",
              "\n",
              "      for await (const message of channel.messages) {\n",
              "        // Send a message to notify the kernel that we're ready.\n",
              "        channel.send({})\n",
              "        if (message.buffers) {\n",
              "          for (const buffer of message.buffers) {\n",
              "            buffers.push(buffer);\n",
              "            downloaded += buffer.byteLength;\n",
              "            progress.value = downloaded;\n",
              "          }\n",
              "        }\n",
              "      }\n",
              "      const blob = new Blob(buffers, {type: 'application/binary'});\n",
              "      const a = document.createElement('a');\n",
              "      a.href = window.URL.createObjectURL(blob);\n",
              "      a.download = filename;\n",
              "      div.appendChild(a);\n",
              "      a.click();\n",
              "      div.remove();\n",
              "    }\n",
              "  "
            ],
            "text/plain": [
              "<IPython.core.display.Javascript object>"
            ]
          },
          "metadata": {}
        },
        {
          "output_type": "display_data",
          "data": {
            "application/javascript": [
              "download(\"download_052ca82b-6696-4634-98c3-06b62fe6a52e\", \"dialog_text_j.xlsx\", 114978)"
            ],
            "text/plain": [
              "<IPython.core.display.Javascript object>"
            ]
          },
          "metadata": {}
        }
      ]
    },
    {
      "cell_type": "markdown",
      "metadata": {
        "id": "cJzPoKdGjqJK"
      },
      "source": [
        "#Основные задачи препроцессинга\n",
        "- выкидывание редких и часто встречаемых слов\n",
        "- чистка от чисел, эмоджи, ссылок и прочего гавна\n",
        "- стемматизация \n",
        "- лематизация \n",
        "- разбиение на токены \n",
        "\n",
        "- провести TF-IDF\n",
        "- Bag of words \n",
        "- stop words \n",
        "\n",
        "#Возможные реализации\n",
        "- Bert (attention is all you need)\n",
        "можно использовать для эмбедингов\n",
        "- robust text clustering algorithm\n",
        "- DBSCAN \n",
        "- K-nn (не подходит в виду того, что он хорошо работает, если все кластеры одинаковой  и \"круглой\" формы, у нас такого не наблюдается ) \n",
        "\n",
        "#интересно\n",
        "- есть озоновская толока "
      ]
    },
    {
      "cell_type": "markdown",
      "metadata": {
        "id": "1jYwhcXoydnb"
      },
      "source": [
        ""
      ]
    },
    {
      "cell_type": "code",
      "metadata": {
        "id": "uSdV0TDIkFPX"
      },
      "source": [
        ""
      ],
      "execution_count": null,
      "outputs": []
    },
    {
      "cell_type": "code",
      "source": [
        "class Porter:\n",
        "\tPERFECTIVEGROUND =  re.compile(u\"((ив|ивши|ившись|ыв|ывши|ывшись)|((?<=[ая])(в|вши|вшись)))$\")\n",
        "\tREFLEXIVE = re.compile(u\"(с[яь])$\")\n",
        "\tADJECTIVE = re.compile(u\"(ее|ие|ые|ое|ими|ыми|ей|ий|ый|ой|ем|им|ым|ом|его|ого|ему|ому|их|ых|ую|юю|ая|яя|ою|ею)$\")\n",
        "\tPARTICIPLE = re.compile(u\"((ивш|ывш|ующ)|((?<=[ая])(ем|нн|вш|ющ|щ)))$\")\n",
        "\tVERB = re.compile(u\"((ила|ыла|ена|ейте|уйте|ите|или|ыли|ей|уй|ил|ыл|им|ым|ен|ило|ыло|ено|ят|ует|уют|ит|ыт|ены|ить|ыть|ишь|ую|ю)|((?<=[ая])(ла|на|ете|йте|ли|й|л|ем|н|ло|но|ет|ют|ны|ть|ешь|нно)))$\")\n",
        "\tNOUN = re.compile(u\"(а|ев|ов|ие|ье|е|иями|ями|ами|еи|ии|и|ией|ей|ой|ий|й|иям|ям|ием|ем|ам|ом|о|у|ах|иях|ях|ы|ь|ию|ью|ю|ия|ья|я)$\")\n",
        "\tRVRE = re.compile(u\"^(.*?[аеиоуыэюя])(.*)$\")\n",
        "\tDERIVATIONAL = re.compile(u\".*[^аеиоуыэюя]+[аеиоуыэюя].*ость?$\")\n",
        "\tDER = re.compile(u\"ость?$\")\n",
        "\tSUPERLATIVE = re.compile(u\"(ейше|ейш)$\")\n",
        "\tI = re.compile(u\"и$\")\n",
        "\tP = re.compile(u\"ь$\")\n",
        "\tNN = re.compile(u\"нн$\")\n",
        "\n",
        "\tdef stem(word):\n",
        "\t\tword = word.lower()\n",
        "\t\tword = word.replace(u'ё', u'е')\n",
        "\t\tm = re.match(Porter.RVRE, word)\n",
        "\t\tif m and m.groups():\n",
        "\t\t\tpre = m.group(1)\n",
        "\t\t\trv = m.group(2)\n",
        "\t\t\ttemp = Porter.PERFECTIVEGROUND.sub('', rv, 1)\n",
        "\t\t\tif temp == rv:\n",
        "\t\t\t\trv = Porter.REFLEXIVE.sub('', rv, 1)\n",
        "\t\t\t\ttemp = Porter.ADJECTIVE.sub('', rv, 1)\n",
        "\t\t\t\tif temp != rv:\n",
        "\t\t\t\t\trv = temp\n",
        "\t\t\t\t\trv = Porter.PARTICIPLE.sub('', rv, 1)\n",
        "\t\t\t\telse:\n",
        "\t\t\t\t\ttemp = Porter.VERB.sub('', rv, 1)\n",
        "\t\t\t\t\tif temp == rv:\n",
        "\t\t\t\t\t\trv = Porter.NOUN.sub('', rv, 1)\n",
        "\t\t\t\t\telse:\n",
        "\t\t\t\t\t\trv = temp\n",
        "\t\t\telse:\n",
        "\t\t\t\trv = temp\n",
        "\t\t\t\n",
        "\t\t\trv = Porter.I.sub('', rv, 1)\n",
        "\n",
        "\t\t\tif re.match(Porter.DERIVATIONAL, rv):\n",
        "\t\t\t\trv = Porter.DER.sub('', rv, 1)\n",
        "\n",
        "\t\t\ttemp = Porter.P.sub('', rv, 1)\n",
        "\t\t\tif temp == rv:\n",
        "\t\t\t\trv = Porter.SUPERLATIVE.sub('', rv, 1)\n",
        "\t\t\t\trv = Porter.NN.sub(u'н', rv, 1)\n",
        "\t\t\telse:\n",
        "\t\t\t\trv = temp\n",
        "\t\t\tword = pre+rv\n",
        "\t\treturn word\n",
        "\tstem=staticmethod(stem)\n"
      ],
      "metadata": {
        "id": "mmIj1LR4G8ys"
      },
      "execution_count": null,
      "outputs": []
    }
  ]
}